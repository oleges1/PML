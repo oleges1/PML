{
  "nbformat": 4,
  "nbformat_minor": 0,
  "metadata": {
    "colab": {
      "name": "lab8_DQN.ipynb",
      "version": "0.3.2",
      "provenance": [],
      "collapsed_sections": [],
      "include_colab_link": true
    },
    "kernelspec": {
      "name": "python3",
      "display_name": "Python 3"
    },
    "accelerator": "GPU"
  },
  "cells": [
    {
      "cell_type": "markdown",
      "metadata": {
        "id": "view-in-github",
        "colab_type": "text"
      },
      "source": [
        "<a href=\"https://colab.research.google.com/github/oleges1/PML/blob/master/lab8_DQN.ipynb\" target=\"_parent\"><img src=\"https://colab.research.google.com/assets/colab-badge.svg\" alt=\"Open In Colab\"/></a>"
      ]
    },
    {
      "metadata": {
        "id": "ETykzMWVqQ-U",
        "colab_type": "code",
        "colab": {}
      },
      "cell_type": "code",
      "source": [
        "import numpy as np\n",
        "import keras\n",
        "from keras.models import Sequential\n",
        "from keras.layers import Dense, Dropout, Flatten\n",
        "from keras.layers import Conv2D, MaxPooling2D, LeakyReLU, Activation, ZeroPadding2D\n",
        "from keras.layers.normalization import BatchNormalization\n",
        "from keras.optimizers import SGD\n",
        "import random\n",
        "import gym\n",
        "import numpy as np\n",
        "from collections import deque\n",
        "from keras.models import Sequential\n",
        "from keras.layers import Dense\n",
        "from keras.optimizers import Adam\n",
        "import tensorflow as tf"
      ],
      "execution_count": 0,
      "outputs": []
    },
    {
      "metadata": {
        "id": "fZMxaIFn0V_G",
        "colab_type": "text"
      },
      "cell_type": "markdown",
      "source": [
        "## Our enviroment and some constants"
      ]
    },
    {
      "metadata": {
        "id": "zXCVPG9AdTag",
        "colab_type": "code",
        "colab": {}
      },
      "cell_type": "code",
      "source": [
        "env = gym.make('Skiing-v0')\n",
        "state_size = (1, 125, 80, 3)\n",
        "action_size = env.action_space.n\n",
        "input_shape = (125, 80, 3)"
      ],
      "execution_count": 0,
      "outputs": []
    },
    {
      "metadata": {
        "id": "8Xdw0_BV0N8R",
        "colab_type": "text"
      },
      "cell_type": "markdown",
      "source": [
        "## Convolutional network for DQN"
      ]
    },
    {
      "metadata": {
        "id": "ZKvytRPWozhr",
        "colab_type": "code",
        "colab": {
          "base_uri": "https://localhost:8080/",
          "height": 1235
        },
        "outputId": "73323e87-c183-42d5-de54-01cac9987800"
      },
      "cell_type": "code",
      "source": [
        "import keras\n",
        "import keras.backend as K\n",
        "from keras.utils import conv_utils\n",
        "from keras.engine import InputSpec\n",
        "from keras.engine import Layer\n",
        "from tensorflow import image as tfi\n",
        "\n",
        "class ResizeImages(Layer):\n",
        "    \"\"\"Resize Images to a specified size\n",
        "\n",
        "    # Arguments\n",
        "        output_size: Size of output layer width and height\n",
        "        data_format: A string,\n",
        "            one of `channels_last` (default) or `channels_first`.\n",
        "            The ordering of the dimensions in the inputs.\n",
        "            `channels_last` corresponds to inputs with shape\n",
        "            `(batch, height, width, channels)` while `channels_first`\n",
        "            corresponds to inputs with shape\n",
        "            `(batch, channels, height, width)`.\n",
        "            It defaults to the `image_data_format` value found in your\n",
        "            Keras config file at `~/.keras/keras.json`.\n",
        "            If you never set it, then it will be \"channels_last\".\n",
        "\n",
        "    # Input shape\n",
        "        - If `data_format='channels_last'`:\n",
        "            4D tensor with shape:\n",
        "            `(batch_size, rows, cols, channels)`\n",
        "        - If `data_format='channels_first'`:\n",
        "            4D tensor with shape:\n",
        "            `(batch_size, channels, rows, cols)`\n",
        "\n",
        "    # Output shape\n",
        "        - If `data_format='channels_last'`:\n",
        "            4D tensor with shape:\n",
        "            `(batch_size, pooled_rows, pooled_cols, channels)`\n",
        "        - If `data_format='channels_first'`:\n",
        "            4D tensor with shape:\n",
        "            `(batch_size, channels, pooled_rows, pooled_cols)`\n",
        "    \"\"\"\n",
        "    def __init__(self, output_dim=(1, 1), data_format=None, **kwargs):\n",
        "        super(ResizeImages, self).__init__(**kwargs)\n",
        "        data_format = conv_utils.normalize_data_format(data_format)\n",
        "        self.output_dim = conv_utils.normalize_tuple(output_dim, 2, 'output_dim')\n",
        "        self.data_format = conv_utils.normalize_data_format(data_format)\n",
        "        self.input_spec = InputSpec(ndim=4)\n",
        "\n",
        "    def build(self, input_shape):\n",
        "        self.input_spec = [InputSpec(shape=input_shape)]\n",
        "\n",
        "    def compute_output_shape(self, input_shape):\n",
        "        if self.data_format == 'channels_first':\n",
        "            return (input_shape[0], input_shape[1], self.output_dim[0], self.output_dim[1])\n",
        "        elif self.data_format == 'channels_last':\n",
        "            return (input_shape[0], self.output_dim[0], self.output_dim[1], input_shape[3])\n",
        "\n",
        "    def _resize_fun(self, inputs, data_format):\n",
        "        try:\n",
        "            assert keras.backend.backend() == 'tensorflow'\n",
        "            assert self.data_format == 'channels_last'\n",
        "        except AssertionError:\n",
        "            print (\"Only tensorflow backend is supported for the resize layer and accordingly 'channels_last' ordering\")\n",
        "        output = tfi.resize_images(inputs, self.output_dim)\n",
        "        return output\n",
        "\n",
        "    def call(self, inputs):\n",
        "        output = self._resize_fun(inputs=inputs, data_format=self.data_format)\n",
        "        return output\n",
        "\n",
        "    def get_config(self):\n",
        "        config = {'output_dim': self.output_dim,\n",
        "                  'padding': self.padding,\n",
        "                  'data_format': self.data_format}\n",
        "        base_config = super(ResizeImages, self).get_config()\n",
        "        return dict(list(base_config.items()) + list(config.items()))\n",
        "\n",
        "\n",
        "\n",
        "model = Sequential()\n",
        "#model.add(ResizeImages((64, 42), input_shape=input_shape))\n",
        "model.add(Conv2D(16, (10, 10), padding='valid', input_shape=input_shape))\n",
        "model.add(LeakyReLU())\n",
        "model.add(Conv2D(16, (5, 5), padding='same'))\n",
        "model.add(LeakyReLU())\n",
        "model.add(MaxPooling2D(pool_size = (4, 4), padding = 'same'))\n",
        "model.add(LeakyReLU())\n",
        "model.add(BatchNormalization(axis = -1))\n",
        "\n",
        "model.add(Conv2D(32, (6, 6), padding='valid'))\n",
        "model.add(LeakyReLU())\n",
        "model.add(Conv2D(32, (3, 3), padding='same'))\n",
        "model.add(LeakyReLU())\n",
        "model.add(MaxPooling2D(pool_size = (3, 3), padding = 'same'))\n",
        "model.add(LeakyReLU())\n",
        "model.add(BatchNormalization(axis = -1))\n",
        "    \n",
        "model.add(Conv2D(64, (4, 4), padding='same'))\n",
        "model.add(LeakyReLU())\n",
        "model.add(Conv2D(64, (2, 2), padding='valid'))\n",
        "model.add(LeakyReLU())\n",
        "model.add(MaxPooling2D(pool_size = (2, 2), padding = 'same'))\n",
        "model.add(LeakyReLU())\n",
        "model.add(BatchNormalization(axis = -1))\n",
        "\n",
        "#model.add(Conv2D(256, (3, 3), padding='same'))\n",
        "#model.add(LeakyReLU())\n",
        "#model.add(Conv2D(256, (2, 2), padding='valid'))\n",
        "#model.add(LeakyReLU())\n",
        "#model.add(MaxPooling2D(pool_size = (2, 2), padding = 'same'))\n",
        "#model.add(LeakyReLU())\n",
        "#model.add(BatchNormalization(axis = 3))\n",
        "\n",
        "    \n",
        "#model.add(Conv2D(1, (1, 1), padding='same'))\n",
        "#model.add(LeakyReLU())\n",
        "#model.add(Flatten())\n",
        "\n",
        "model.add(LeakyReLU())\n",
        "model.add(Flatten())\n",
        "model.add(Dense(100))\n",
        "model.add(Dropout(0.2))\n",
        "model.add(LeakyReLU())\n",
        "model.add(Dense(action_size))\n",
        "    \n",
        "model.add(Activation('linear'))\n",
        "\n",
        "# initiate RMSprop optimizer\n",
        "model.compile(loss='mse', optimizer = 'adam', metrics = ['accuracy'])\n",
        "model.summary()\n",
        "graph = tf.get_default_graph()"
      ],
      "execution_count": 3,
      "outputs": [
        {
          "output_type": "stream",
          "text": [
            "WARNING:tensorflow:From /usr/local/lib/python3.6/dist-packages/tensorflow/python/framework/op_def_library.py:263: colocate_with (from tensorflow.python.framework.ops) is deprecated and will be removed in a future version.\n",
            "Instructions for updating:\n",
            "Colocations handled automatically by placer.\n",
            "WARNING:tensorflow:From /usr/local/lib/python3.6/dist-packages/keras/backend/tensorflow_backend.py:3445: calling dropout (from tensorflow.python.ops.nn_ops) with keep_prob is deprecated and will be removed in a future version.\n",
            "Instructions for updating:\n",
            "Please use `rate` instead of `keep_prob`. Rate should be set to `rate = 1 - keep_prob`.\n",
            "_________________________________________________________________\n",
            "Layer (type)                 Output Shape              Param #   \n",
            "=================================================================\n",
            "conv2d_1 (Conv2D)            (None, 116, 71, 16)       4816      \n",
            "_________________________________________________________________\n",
            "leaky_re_lu_1 (LeakyReLU)    (None, 116, 71, 16)       0         \n",
            "_________________________________________________________________\n",
            "conv2d_2 (Conv2D)            (None, 116, 71, 16)       6416      \n",
            "_________________________________________________________________\n",
            "leaky_re_lu_2 (LeakyReLU)    (None, 116, 71, 16)       0         \n",
            "_________________________________________________________________\n",
            "max_pooling2d_1 (MaxPooling2 (None, 29, 18, 16)        0         \n",
            "_________________________________________________________________\n",
            "leaky_re_lu_3 (LeakyReLU)    (None, 29, 18, 16)        0         \n",
            "_________________________________________________________________\n",
            "batch_normalization_1 (Batch (None, 29, 18, 16)        64        \n",
            "_________________________________________________________________\n",
            "conv2d_3 (Conv2D)            (None, 24, 13, 32)        18464     \n",
            "_________________________________________________________________\n",
            "leaky_re_lu_4 (LeakyReLU)    (None, 24, 13, 32)        0         \n",
            "_________________________________________________________________\n",
            "conv2d_4 (Conv2D)            (None, 24, 13, 32)        9248      \n",
            "_________________________________________________________________\n",
            "leaky_re_lu_5 (LeakyReLU)    (None, 24, 13, 32)        0         \n",
            "_________________________________________________________________\n",
            "max_pooling2d_2 (MaxPooling2 (None, 8, 5, 32)          0         \n",
            "_________________________________________________________________\n",
            "leaky_re_lu_6 (LeakyReLU)    (None, 8, 5, 32)          0         \n",
            "_________________________________________________________________\n",
            "batch_normalization_2 (Batch (None, 8, 5, 32)          128       \n",
            "_________________________________________________________________\n",
            "conv2d_5 (Conv2D)            (None, 8, 5, 64)          32832     \n",
            "_________________________________________________________________\n",
            "leaky_re_lu_7 (LeakyReLU)    (None, 8, 5, 64)          0         \n",
            "_________________________________________________________________\n",
            "conv2d_6 (Conv2D)            (None, 7, 4, 64)          16448     \n",
            "_________________________________________________________________\n",
            "leaky_re_lu_8 (LeakyReLU)    (None, 7, 4, 64)          0         \n",
            "_________________________________________________________________\n",
            "max_pooling2d_3 (MaxPooling2 (None, 4, 2, 64)          0         \n",
            "_________________________________________________________________\n",
            "leaky_re_lu_9 (LeakyReLU)    (None, 4, 2, 64)          0         \n",
            "_________________________________________________________________\n",
            "batch_normalization_3 (Batch (None, 4, 2, 64)          256       \n",
            "_________________________________________________________________\n",
            "leaky_re_lu_10 (LeakyReLU)   (None, 4, 2, 64)          0         \n",
            "_________________________________________________________________\n",
            "flatten_1 (Flatten)          (None, 512)               0         \n",
            "_________________________________________________________________\n",
            "dense_1 (Dense)              (None, 100)               51300     \n",
            "_________________________________________________________________\n",
            "dropout_1 (Dropout)          (None, 100)               0         \n",
            "_________________________________________________________________\n",
            "leaky_re_lu_11 (LeakyReLU)   (None, 100)               0         \n",
            "_________________________________________________________________\n",
            "dense_2 (Dense)              (None, 3)                 303       \n",
            "_________________________________________________________________\n",
            "activation_1 (Activation)    (None, 3)                 0         \n",
            "=================================================================\n",
            "Total params: 140,275\n",
            "Trainable params: 140,051\n",
            "Non-trainable params: 224\n",
            "_________________________________________________________________\n"
          ],
          "name": "stdout"
        }
      ]
    },
    {
      "metadata": {
        "id": "q2Ix-i4uzj0L",
        "colab_type": "text"
      },
      "cell_type": "markdown",
      "source": [
        "## Agent class\n",
        "\n",
        "Prepare a special class for deep Q-learning\n",
        "It has a state storage for 10000 states, network and some special functions for remembering states and updating network."
      ]
    },
    {
      "metadata": {
        "id": "cOSIAc9Ccn41",
        "colab_type": "code",
        "colab": {}
      },
      "cell_type": "code",
      "source": [
        "class DQNAgent:\n",
        "    def __init__(self, state_size, action_size, model, graph, epsilon_decay = 0.999):\n",
        "        self.state_size = state_size\n",
        "        self.action_size = action_size\n",
        "        #self.memory = deque(maxlen=2000)\n",
        "        self.iters = 0\n",
        "        self.memory_size = 10000\n",
        "        self.memory_state = np.zeros((self.memory_size, state_size[0], state_size[1], state_size[2], state_size[3]))\n",
        "        self.memory_action = np.zeros((self.memory_size))\n",
        "        self.memory_reward = np.zeros((self.memory_size))\n",
        "        self.memory_next_state = np.zeros((self.memory_size, state_size[0], state_size[1], state_size[2], state_size[3]))\n",
        "        self.memory_done = np.zeros((self.memory_size))\n",
        "        self.size = 0\n",
        "        \n",
        "        self.fill = 0\n",
        "        \n",
        "        self.alpha = 0.1     # q-learning \n",
        "        self.gamma = 0.97    # discount rate\n",
        "        self.epsilon = 1.0  # exploration rate\n",
        "        self.epsilon_min = 0.01\n",
        "        self.epsilon_decay = epsilon_decay\n",
        "        self.learning_rate = 0.001\n",
        "        self.model = model\n",
        "        self.graph = graph\n",
        "    \n",
        "    def last_state_remem(self, reward, lens):\n",
        "        temp_iter = self.iters\n",
        "        end_iter = (self.iters - lens + self.memory_size) % self.memory_size\n",
        "        while (temp_iter != end_iter):\n",
        "          self.memory_reward[temp_iter] += reward\n",
        "          reward *= 0.99\n",
        "          self.memory_done[temp_iter] = 1\n",
        "          temp_iter -= 1\n",
        "          if (temp_iter < 0):\n",
        "            temp_iter = self.memory_size - 9\n",
        "\n",
        "    def remember(self, state, action, reward, next_state, done):\n",
        "        #print(self.memory_state.shape, state.shape)\n",
        "        self.memory_state[self.iters] = state\n",
        "        self.memory_action[self.iters] = action\n",
        "        self.memory_reward[self.iters] = reward\n",
        "        self.memory_next_state[self.iters] = next_state\n",
        "        self.memory_done[self.iters] = 0\n",
        "        self.iters += 1\n",
        "        self.size += 1\n",
        "        if (self.iters + 10 >= self.memory_size):\n",
        "          self.iters = 0\n",
        "          self.fill = 1\n",
        "\n",
        "    def act(self, state):\n",
        "        if np.random.rand() <= self.epsilon:\n",
        "            return random.randrange(self.action_size)\n",
        "        with self.graph.as_default():\n",
        "          act_values = self.model.predict(state)\n",
        "        return np.argmax(act_values)  # returns action\n",
        "\n",
        "    def replay(self, batch_size, indx = None):\n",
        "      with self.graph.as_default():\n",
        "        if type(indx) == None:\n",
        "          indx = self.memory_done.nonzero()[0]\n",
        "        if (self.fill):\n",
        "          filteration = np.random.choice(indx, batch_size)\n",
        "        else:\n",
        "          filteration = np.random.choice(self.iters, batch_size)\n",
        "        for i in np.sort(filteration)[::-1]:\n",
        "        # for state, action, reward, next_state, done in self.memory:\n",
        "            #print(state.shape, action, reward, next_state.shape, done, state_size)\n",
        "     \n",
        "            #print(np.amax(self.model.predict(next_state.reshape(state_size))))\n",
        "            \n",
        "            state = self.memory_state[i]\n",
        "            action = self.memory_action[i]\n",
        "            reward = self.memory_reward[i]\n",
        "            next_state = self.memory_next_state[i]\n",
        "            \n",
        "            target = reward + self.gamma * np.amax(self.model.predict(state))\n",
        "            \n",
        "            target_f = self.model.predict(state)\n",
        "            target_f[0][int(action)] = self.alpha * target + (1 - self.alpha) * target_f[0][int(action)]\n",
        "            self.model.fit(state, target_f, epochs=1, verbose=0)\n",
        "        if self.epsilon > self.epsilon_min:\n",
        "            self.epsilon *= self.epsilon_decay\n",
        "        #if (len(self.memory) > 2000):\n",
        "        #  self.memory = self.memory[batch_size:]\n",
        "        #self.memory = []\n",
        "        self.size = 0\n",
        "\n",
        "    def load(self, name):\n",
        "      with self.graph.as_default():\n",
        "        self.model.load_weights(name)\n",
        "\n",
        "    def save(self, name):\n",
        "      with self.graph.as_default():\n",
        "        self.model.save_weights(name)"
      ],
      "execution_count": 0,
      "outputs": []
    },
    {
      "metadata": {
        "id": "1X-fb7YS0ker",
        "colab_type": "text"
      },
      "cell_type": "markdown",
      "source": [
        "We need too resize input image, so let's use:"
      ]
    },
    {
      "metadata": {
        "id": "X2dwd5gi8s1a",
        "colab_type": "code",
        "colab": {}
      },
      "cell_type": "code",
      "source": [
        "from skimage.transform import resize\n",
        "def prepare_state(img):\n",
        "  return resize(img, (125, 80), mode = 'reflect')"
      ],
      "execution_count": 0,
      "outputs": []
    },
    {
      "metadata": {
        "id": "aJ4sLi7E0rDz",
        "colab_type": "text"
      },
      "cell_type": "markdown",
      "source": [
        "Usage of this class"
      ]
    },
    {
      "metadata": {
        "id": "ledDkLRIQqkW",
        "colab_type": "code",
        "colab": {}
      },
      "cell_type": "code",
      "source": [
        "from time import time\n",
        "from tqdm import tqdm\n",
        "agent = DQNAgent(state_size, action_size, model, graph, epsilon_decay = 0.77)"
      ],
      "execution_count": 0,
      "outputs": []
    },
    {
      "metadata": {
        "id": "xD5RMeLopFk6",
        "colab_type": "text"
      },
      "cell_type": "markdown",
      "source": [
        "## Learning part\n",
        "\n",
        "Scheme of learning.\n",
        "* Store some initial parties and fill a half of our state storage.\n",
        "* After each game update network on 1300 states randomly sampled from storage."
      ]
    },
    {
      "metadata": {
        "id": "3HR6WgMU1iaw",
        "colab_type": "code",
        "colab": {}
      },
      "cell_type": "code",
      "source": [
        "def learning(agent, batch_size = 4096, episodes = 15, verbose = 0):\n",
        "  done = False\n",
        "  for e in range(episodes):\n",
        "      state = env.reset()\n",
        "      state = np.reshape(prepare_state(state), state_size)\n",
        "      done = 0\n",
        "      start = time()\n",
        "      score = 0.0\n",
        "      for times in range(2500):\n",
        "        action = agent.act(state)\n",
        "        next_state, reward, done, _ = env.step(action)\n",
        "        reward = reward if not done else 8000\n",
        "        score += reward\n",
        "        next_state = np.reshape(prepare_state(next_state), state_size)\n",
        "        agent.remember(state, action, reward, next_state, done)\n",
        "        state = next_state\n",
        "        if done:\n",
        "          print(\"done: {}, episode: {}/{}, score: {}, e: {:.2}, time:{} \"\n",
        "                      .format(done, e, episodes, score, agent.epsilon, time() - start))\n",
        "          break\n",
        "        if (verbose and times % 100 == 0):\n",
        "          print(\"done: {}, episode: {}/{}, score: {}, e: {:.2}, time:{} \"\n",
        "                      .format(done, e, episodes, score, agent.epsilon, time() - start))\n",
        "      agent.last_state_remem(reward, times)\n",
        "      if (agent.iters > batch_size or agent.fill):\n",
        "          indx = agent.memory_done.nonzero()[0]\n",
        "          agent.replay(batch_size, indx = indx)"
      ],
      "execution_count": 0,
      "outputs": []
    },
    {
      "metadata": {
        "id": "YvsXaE9Voi79",
        "colab_type": "code",
        "outputId": "feb614dd-779b-4e48-c5cc-439384e2f7ed",
        "colab": {
          "base_uri": "https://localhost:8080/",
          "height": 5091
        }
      },
      "cell_type": "code",
      "source": [
        "agent.epsilon = 0.9\n",
        "agent.epsilon_decay = 0.77\n",
        "learning(agent, verbose = 1, episodes = 15, batch_size=4096)\n",
        "print(agent.epsilon)"
      ],
      "execution_count": 8,
      "outputs": [
        {
          "output_type": "stream",
          "text": [
            "done: False, episode: 0/15, score: -7.0, e: 0.9, time:0.005235910415649414 \n",
            "done: False, episode: 0/15, score: -523.0, e: 0.9, time:1.6619155406951904 \n",
            "done: False, episode: 0/15, score: -1023.0, e: 0.9, time:2.229205846786499 \n",
            "done: False, episode: 0/15, score: -1534.0, e: 0.9, time:2.793581962585449 \n",
            "done: False, episode: 0/15, score: -2022.0, e: 0.9, time:3.365571975708008 \n",
            "done: False, episode: 0/15, score: -2553.0, e: 0.9, time:3.8887765407562256 \n",
            "done: False, episode: 0/15, score: -3047.0, e: 0.9, time:4.4655797481536865 \n",
            "done: False, episode: 0/15, score: -3534.0, e: 0.9, time:5.007403373718262 \n",
            "done: False, episode: 0/15, score: -4044.0, e: 0.9, time:5.587691783905029 \n",
            "done: False, episode: 0/15, score: -4523.0, e: 0.9, time:6.182501316070557 \n",
            "done: False, episode: 0/15, score: -5021.0, e: 0.9, time:6.740368843078613 \n",
            "done: False, episode: 0/15, score: -5518.0, e: 0.9, time:7.30739688873291 \n",
            "done: False, episode: 0/15, score: -6011.0, e: 0.9, time:7.87568473815918 \n",
            "done: False, episode: 0/15, score: -6528.0, e: 0.9, time:8.460864543914795 \n",
            "done: False, episode: 0/15, score: -7039.0, e: 0.9, time:9.019028663635254 \n",
            "done: False, episode: 0/15, score: -7505.0, e: 0.9, time:9.579527854919434 \n",
            "done: True, episode: 0/15, score: 151.0, e: 0.9, time:9.966708898544312 \n",
            "done: False, episode: 1/15, score: -5.0, e: 0.9, time:0.005916118621826172 \n",
            "done: False, episode: 1/15, score: -513.0, e: 0.9, time:0.5801856517791748 \n",
            "done: False, episode: 1/15, score: -1025.0, e: 0.9, time:1.1381254196166992 \n",
            "done: False, episode: 1/15, score: -1538.0, e: 0.9, time:1.7436103820800781 \n",
            "done: False, episode: 1/15, score: -2039.0, e: 0.9, time:2.296071767807007 \n",
            "done: False, episode: 1/15, score: -2538.0, e: 0.9, time:2.8717198371887207 \n",
            "done: False, episode: 1/15, score: -3009.0, e: 0.9, time:3.4180023670196533 \n",
            "done: False, episode: 1/15, score: -3493.0, e: 0.9, time:3.960116386413574 \n",
            "done: False, episode: 1/15, score: -3979.0, e: 0.9, time:4.513905048370361 \n",
            "done: False, episode: 1/15, score: -4473.0, e: 0.9, time:5.102891445159912 \n",
            "done: False, episode: 1/15, score: -4982.0, e: 0.9, time:5.687772989273071 \n",
            "done: False, episode: 1/15, score: -5491.0, e: 0.9, time:6.247614622116089 \n",
            "done: False, episode: 1/15, score: -5982.0, e: 0.9, time:6.807954549789429 \n",
            "done: False, episode: 1/15, score: -6498.0, e: 0.9, time:7.395950555801392 \n",
            "done: False, episode: 1/15, score: -7016.0, e: 0.9, time:8.0114905834198 \n",
            "done: False, episode: 1/15, score: -7513.0, e: 0.9, time:8.589428424835205 \n",
            "done: False, episode: 1/15, score: -7996.0, e: 0.9, time:9.178662538528442 \n",
            "done: False, episode: 1/15, score: -8487.0, e: 0.9, time:9.770401239395142 \n",
            "done: False, episode: 1/15, score: -8983.0, e: 0.9, time:10.338824272155762 \n",
            "done: False, episode: 1/15, score: -9484.0, e: 0.9, time:10.923904418945312 \n",
            "done: False, episode: 1/15, score: -9973.0, e: 0.9, time:11.529505252838135 \n",
            "done: False, episode: 1/15, score: -10472.0, e: 0.9, time:12.08657169342041 \n",
            "done: False, episode: 1/15, score: -10951.0, e: 0.9, time:12.658750772476196 \n",
            "done: False, episode: 1/15, score: -11449.0, e: 0.9, time:13.188693284988403 \n",
            "done: False, episode: 1/15, score: -11923.0, e: 0.9, time:13.759239196777344 \n",
            "done: False, episode: 2/15, score: -7.0, e: 0.9, time:0.01274251937866211 \n",
            "done: False, episode: 2/15, score: -501.0, e: 0.9, time:0.5750432014465332 \n",
            "done: False, episode: 2/15, score: -1002.0, e: 0.9, time:1.132798194885254 \n",
            "done: False, episode: 2/15, score: -1499.0, e: 0.9, time:1.7204666137695312 \n",
            "done: False, episode: 2/15, score: -1969.0, e: 0.9, time:2.2485835552215576 \n",
            "done: False, episode: 2/15, score: -2499.0, e: 0.9, time:2.7933101654052734 \n",
            "done: False, episode: 2/15, score: -2997.0, e: 0.9, time:3.317943572998047 \n",
            "done: False, episode: 2/15, score: -3501.0, e: 0.9, time:3.8916237354278564 \n",
            "done: False, episode: 2/15, score: -4009.0, e: 0.9, time:4.4788360595703125 \n",
            "done: False, episode: 2/15, score: -4505.0, e: 0.9, time:5.027473211288452 \n",
            "done: False, episode: 2/15, score: -5016.0, e: 0.9, time:5.582793951034546 \n",
            "done: False, episode: 2/15, score: -5531.0, e: 0.9, time:6.168666124343872 \n",
            "done: False, episode: 2/15, score: -6039.0, e: 0.9, time:6.750066757202148 \n",
            "done: False, episode: 2/15, score: -6540.0, e: 0.9, time:7.334662199020386 \n",
            "done: False, episode: 2/15, score: -7034.0, e: 0.9, time:7.9164721965789795 \n",
            "done: False, episode: 2/15, score: -7558.0, e: 0.9, time:8.461688041687012 \n",
            "done: False, episode: 2/15, score: -8039.0, e: 0.9, time:9.045430421829224 \n",
            "done: False, episode: 2/15, score: -8533.0, e: 0.9, time:9.616826295852661 \n",
            "done: False, episode: 2/15, score: -9046.0, e: 0.9, time:10.196478843688965 \n",
            "done: False, episode: 2/15, score: -9560.0, e: 0.9, time:10.780205488204956 \n",
            "done: False, episode: 2/15, score: -10069.0, e: 0.9, time:11.33627963066101 \n",
            "done: False, episode: 2/15, score: -10568.0, e: 0.9, time:11.92480993270874 \n",
            "done: False, episode: 2/15, score: -11066.0, e: 0.9, time:12.480079889297485 \n",
            "done: False, episode: 2/15, score: -11572.0, e: 0.9, time:13.006628036499023 \n",
            "done: False, episode: 2/15, score: -12054.0, e: 0.9, time:13.550689458847046 \n",
            "WARNING:tensorflow:From /usr/local/lib/python3.6/dist-packages/tensorflow/python/ops/math_ops.py:3066: to_int32 (from tensorflow.python.ops.math_ops) is deprecated and will be removed in a future version.\n",
            "Instructions for updating:\n",
            "Use tf.cast instead.\n",
            "done: False, episode: 3/15, score: -7.0, e: 0.69, time:0.008553504943847656 \n",
            "done: False, episode: 3/15, score: -506.0, e: 0.69, time:0.6419394016265869 \n",
            "done: False, episode: 3/15, score: -988.0, e: 0.69, time:1.2787384986877441 \n",
            "done: False, episode: 3/15, score: -1503.0, e: 0.69, time:1.8935928344726562 \n",
            "done: False, episode: 3/15, score: -1980.0, e: 0.69, time:2.5216424465179443 \n",
            "done: False, episode: 3/15, score: -2483.0, e: 0.69, time:3.194789171218872 \n",
            "done: False, episode: 3/15, score: -2957.0, e: 0.69, time:3.850184440612793 \n",
            "done: False, episode: 3/15, score: -3483.0, e: 0.69, time:4.50345778465271 \n",
            "done: False, episode: 3/15, score: -3990.0, e: 0.69, time:5.159597158432007 \n",
            "done: False, episode: 3/15, score: -4500.0, e: 0.69, time:5.803790330886841 \n",
            "done: False, episode: 3/15, score: -5007.0, e: 0.69, time:6.504289150238037 \n",
            "done: False, episode: 3/15, score: -5493.0, e: 0.69, time:7.106045484542847 \n",
            "done: False, episode: 3/15, score: -5977.0, e: 0.69, time:7.716175556182861 \n",
            "done: False, episode: 3/15, score: -6473.0, e: 0.69, time:8.349318981170654 \n",
            "done: False, episode: 3/15, score: -6971.0, e: 0.69, time:8.993627786636353 \n",
            "done: False, episode: 3/15, score: -7468.0, e: 0.69, time:9.629351377487183 \n",
            "done: False, episode: 3/15, score: -7971.0, e: 0.69, time:10.257453441619873 \n",
            "done: False, episode: 3/15, score: -8453.0, e: 0.69, time:10.8931884765625 \n",
            "done: False, episode: 3/15, score: -8946.0, e: 0.69, time:11.56718373298645 \n",
            "done: False, episode: 3/15, score: -9434.0, e: 0.69, time:12.188499689102173 \n",
            "done: False, episode: 3/15, score: -9923.0, e: 0.69, time:12.826858758926392 \n",
            "done: True, episode: 3/15, score: -2103.0, e: 0.69, time:13.030158519744873 \n",
            "done: False, episode: 4/15, score: -7.0, e: 0.53, time:0.005158662796020508 \n",
            "done: False, episode: 4/15, score: -518.0, e: 0.53, time:0.6550796031951904 \n",
            "done: False, episode: 4/15, score: -1007.0, e: 0.53, time:1.2843282222747803 \n",
            "done: False, episode: 4/15, score: -1491.0, e: 0.53, time:1.969954490661621 \n",
            "done: False, episode: 4/15, score: -1994.0, e: 0.53, time:2.705014944076538 \n",
            "done: False, episode: 4/15, score: -2481.0, e: 0.53, time:3.403456449508667 \n",
            "done: False, episode: 4/15, score: -2984.0, e: 0.53, time:4.0640411376953125 \n",
            "done: False, episode: 4/15, score: -3478.0, e: 0.53, time:4.772551536560059 \n",
            "done: False, episode: 4/15, score: -3977.0, e: 0.53, time:5.387776613235474 \n",
            "done: False, episode: 4/15, score: -4485.0, e: 0.53, time:6.098150014877319 \n",
            "done: False, episode: 4/15, score: -4969.0, e: 0.53, time:6.7742486000061035 \n",
            "done: False, episode: 4/15, score: -5470.0, e: 0.53, time:7.440821170806885 \n",
            "done: False, episode: 4/15, score: -5956.0, e: 0.53, time:8.116879224777222 \n",
            "done: False, episode: 4/15, score: -6462.0, e: 0.53, time:8.81177568435669 \n",
            "done: False, episode: 4/15, score: -6962.0, e: 0.53, time:9.486177206039429 \n",
            "done: False, episode: 4/15, score: -7445.0, e: 0.53, time:10.191474914550781 \n",
            "done: False, episode: 4/15, score: -7929.0, e: 0.53, time:10.902876377105713 \n",
            "done: False, episode: 4/15, score: -8412.0, e: 0.53, time:11.596437215805054 \n",
            "done: False, episode: 4/15, score: -8904.0, e: 0.53, time:12.285330295562744 \n",
            "done: False, episode: 4/15, score: -9419.0, e: 0.53, time:12.971706628799438 \n",
            "done: False, episode: 4/15, score: -9910.0, e: 0.53, time:13.670852184295654 \n",
            "done: False, episode: 4/15, score: -10399.0, e: 0.53, time:14.376733303070068 \n",
            "done: False, episode: 4/15, score: -10913.0, e: 0.53, time:15.069077968597412 \n",
            "done: False, episode: 4/15, score: -11404.0, e: 0.53, time:15.726580142974854 \n",
            "done: False, episode: 4/15, score: -11881.0, e: 0.53, time:16.398006439208984 \n",
            "done: False, episode: 5/15, score: -5.0, e: 0.41, time:0.005416393280029297 \n",
            "done: False, episode: 5/15, score: -498.0, e: 0.41, time:0.8417370319366455 \n",
            "done: False, episode: 5/15, score: -1003.0, e: 0.41, time:1.6394805908203125 \n",
            "done: False, episode: 5/15, score: -1518.0, e: 0.41, time:2.4619176387786865 \n",
            "done: False, episode: 5/15, score: -2037.0, e: 0.41, time:3.3507142066955566 \n",
            "done: False, episode: 5/15, score: -2551.0, e: 0.41, time:4.1613686084747314 \n",
            "done: False, episode: 5/15, score: -3070.0, e: 0.41, time:5.005111217498779 \n",
            "done: False, episode: 5/15, score: -3573.0, e: 0.41, time:5.865700721740723 \n",
            "done: False, episode: 5/15, score: -4065.0, e: 0.41, time:6.658800840377808 \n",
            "done: False, episode: 5/15, score: -4558.0, e: 0.41, time:7.5088746547698975 \n",
            "done: False, episode: 5/15, score: -5055.0, e: 0.41, time:8.300752878189087 \n",
            "done: False, episode: 5/15, score: -5555.0, e: 0.41, time:9.156404972076416 \n",
            "done: False, episode: 5/15, score: -6021.0, e: 0.41, time:9.984400987625122 \n",
            "done: False, episode: 5/15, score: -6510.0, e: 0.41, time:10.79917025566101 \n",
            "done: False, episode: 5/15, score: -7016.0, e: 0.41, time:11.5967538356781 \n",
            "done: False, episode: 5/15, score: -7515.0, e: 0.41, time:12.496355295181274 \n",
            "done: False, episode: 5/15, score: -7996.0, e: 0.41, time:13.317672729492188 \n",
            "done: True, episode: 5/15, score: -304.0, e: 0.41, time:13.830353736877441 \n",
            "done: False, episode: 6/15, score: -7.0, e: 0.32, time:0.010168313980102539 \n",
            "done: False, episode: 6/15, score: -494.0, e: 0.32, time:0.8631026744842529 \n",
            "done: False, episode: 6/15, score: -993.0, e: 0.32, time:1.7776532173156738 \n",
            "done: False, episode: 6/15, score: -1496.0, e: 0.32, time:2.6274569034576416 \n",
            "done: False, episode: 6/15, score: -1984.0, e: 0.32, time:3.453834056854248 \n",
            "done: False, episode: 6/15, score: -2484.0, e: 0.32, time:4.379315137863159 \n",
            "done: False, episode: 6/15, score: -2997.0, e: 0.32, time:5.234344244003296 \n",
            "done: False, episode: 6/15, score: -3505.0, e: 0.32, time:6.103896379470825 \n",
            "done: False, episode: 6/15, score: -4012.0, e: 0.32, time:7.040769577026367 \n",
            "done: False, episode: 6/15, score: -4506.0, e: 0.32, time:7.830865383148193 \n",
            "done: False, episode: 6/15, score: -5016.0, e: 0.32, time:8.722420454025269 \n",
            "done: False, episode: 6/15, score: -5513.0, e: 0.32, time:9.644695043563843 \n",
            "done: False, episode: 6/15, score: -6009.0, e: 0.32, time:10.517382621765137 \n",
            "done: False, episode: 6/15, score: -6502.0, e: 0.32, time:11.42410945892334 \n",
            "done: False, episode: 6/15, score: -6994.0, e: 0.32, time:12.260210990905762 \n",
            "done: False, episode: 6/15, score: -7492.0, e: 0.32, time:13.11480164527893 \n",
            "done: False, episode: 6/15, score: -7981.0, e: 0.32, time:14.063555479049683 \n",
            "done: False, episode: 6/15, score: -8473.0, e: 0.32, time:14.975719690322876 \n",
            "done: False, episode: 6/15, score: -9004.0, e: 0.32, time:15.845676898956299 \n",
            "done: False, episode: 6/15, score: -9515.0, e: 0.32, time:16.816073656082153 \n",
            "done: False, episode: 6/15, score: -10021.0, e: 0.32, time:17.716267347335815 \n",
            "done: False, episode: 6/15, score: -10514.0, e: 0.32, time:18.57869601249695 \n",
            "done: True, episode: 6/15, score: -2519.0, e: 0.32, time:18.606354475021362 \n",
            "done: False, episode: 7/15, score: -7.0, e: 0.24, time:0.010770797729492188 \n",
            "done: False, episode: 7/15, score: -508.0, e: 0.24, time:0.878638744354248 \n",
            "done: False, episode: 7/15, score: -1018.0, e: 0.24, time:1.8063366413116455 \n",
            "done: False, episode: 7/15, score: -1544.0, e: 0.24, time:2.646125078201294 \n",
            "done: False, episode: 7/15, score: -2080.0, e: 0.24, time:3.5726418495178223 \n",
            "done: False, episode: 7/15, score: -2583.0, e: 0.24, time:4.507563352584839 \n",
            "done: False, episode: 7/15, score: -3079.0, e: 0.24, time:5.380530595779419 \n",
            "done: False, episode: 7/15, score: -3588.0, e: 0.24, time:6.307998418807983 \n",
            "done: False, episode: 7/15, score: -4072.0, e: 0.24, time:7.218433141708374 \n",
            "done: False, episode: 7/15, score: -4575.0, e: 0.24, time:8.084785223007202 \n",
            "done: False, episode: 7/15, score: -5060.0, e: 0.24, time:9.033115863800049 \n",
            "done: False, episode: 7/15, score: -5580.0, e: 0.24, time:9.945625305175781 \n",
            "done: False, episode: 7/15, score: -6090.0, e: 0.24, time:10.80980110168457 \n",
            "done: False, episode: 7/15, score: -6570.0, e: 0.24, time:11.743422985076904 \n",
            "done: False, episode: 7/15, score: -7089.0, e: 0.24, time:12.55985713005066 \n",
            "done: False, episode: 7/15, score: -7611.0, e: 0.24, time:13.494547367095947 \n",
            "done: False, episode: 7/15, score: -8119.0, e: 0.24, time:14.417562246322632 \n",
            "done: False, episode: 7/15, score: -8633.0, e: 0.24, time:15.299963235855103 \n",
            "done: False, episode: 7/15, score: -9146.0, e: 0.24, time:16.21224308013916 \n",
            "done: False, episode: 7/15, score: -9663.0, e: 0.24, time:16.9705913066864 \n",
            "done: False, episode: 7/15, score: -10144.0, e: 0.24, time:17.942925930023193 \n",
            "done: False, episode: 7/15, score: -10643.0, e: 0.24, time:18.844659328460693 \n",
            "done: False, episode: 7/15, score: -11149.0, e: 0.24, time:19.712390899658203 \n",
            "done: False, episode: 7/15, score: -11637.0, e: 0.24, time:20.676202058792114 \n",
            "done: False, episode: 7/15, score: -12134.0, e: 0.24, time:21.537412643432617 \n",
            "done: False, episode: 8/15, score: -5.0, e: 0.19, time:0.010146379470825195 \n",
            "done: False, episode: 8/15, score: -499.0, e: 0.19, time:0.9034731388092041 \n",
            "done: False, episode: 8/15, score: -993.0, e: 0.19, time:1.8583333492279053 \n",
            "done: False, episode: 8/15, score: -1508.0, e: 0.19, time:2.7868926525115967 \n",
            "done: False, episode: 8/15, score: -1994.0, e: 0.19, time:3.696153163909912 \n",
            "done: False, episode: 8/15, score: -2478.0, e: 0.19, time:4.658080577850342 \n",
            "done: False, episode: 8/15, score: -2970.0, e: 0.19, time:5.513817310333252 \n",
            "done: False, episode: 8/15, score: -3475.0, e: 0.19, time:6.418673276901245 \n",
            "done: False, episode: 8/15, score: -3962.0, e: 0.19, time:7.338940858840942 \n",
            "done: False, episode: 8/15, score: -4460.0, e: 0.19, time:8.269910097122192 \n",
            "done: False, episode: 8/15, score: -4962.0, e: 0.19, time:9.282071828842163 \n",
            "done: False, episode: 8/15, score: -5471.0, e: 0.19, time:10.220308780670166 \n",
            "done: False, episode: 8/15, score: -5992.0, e: 0.19, time:11.142860889434814 \n",
            "done: False, episode: 8/15, score: -6475.0, e: 0.19, time:12.145979642868042 \n",
            "done: False, episode: 8/15, score: -6976.0, e: 0.19, time:13.074723482131958 \n",
            "done: False, episode: 8/15, score: -7498.0, e: 0.19, time:14.006558179855347 \n",
            "done: False, episode: 8/15, score: -8004.0, e: 0.19, time:14.974658012390137 \n",
            "done: False, episode: 8/15, score: -8497.0, e: 0.19, time:15.873744249343872 \n",
            "done: True, episode: 8/15, score: -840.0, e: 0.19, time:16.52467179298401 \n",
            "done: False, episode: 9/15, score: -3.0, e: 0.14, time:0.009034156799316406 \n",
            "done: False, episode: 9/15, score: -489.0, e: 0.14, time:0.9257466793060303 \n",
            "done: False, episode: 9/15, score: -992.0, e: 0.14, time:1.8538708686828613 \n",
            "done: False, episode: 9/15, score: -1503.0, e: 0.14, time:2.822664260864258 \n",
            "done: False, episode: 9/15, score: -2007.0, e: 0.14, time:3.8103816509246826 \n",
            "done: False, episode: 9/15, score: -2506.0, e: 0.14, time:4.6868391036987305 \n",
            "done: False, episode: 9/15, score: -2987.0, e: 0.14, time:5.712169647216797 \n",
            "done: False, episode: 9/15, score: -3521.0, e: 0.14, time:6.63447380065918 \n",
            "done: False, episode: 9/15, score: -4030.0, e: 0.14, time:7.590534448623657 \n",
            "done: False, episode: 9/15, score: -4520.0, e: 0.14, time:8.588021993637085 \n",
            "done: False, episode: 9/15, score: -5019.0, e: 0.14, time:9.538330316543579 \n",
            "done: True, episode: 9/15, score: 2692.0, e: 0.14, time:10.103357315063477 \n",
            "done: False, episode: 10/15, score: -5.0, e: 0.11, time:0.008024454116821289 \n",
            "done: False, episode: 10/15, score: -524.0, e: 0.11, time:0.9412245750427246 \n",
            "done: False, episode: 10/15, score: -1020.0, e: 0.11, time:1.9156296253204346 \n",
            "done: False, episode: 10/15, score: -1523.0, e: 0.11, time:2.8580949306488037 \n",
            "done: False, episode: 10/15, score: -1997.0, e: 0.11, time:3.8412013053894043 \n",
            "done: False, episode: 10/15, score: -2503.0, e: 0.11, time:4.853662490844727 \n",
            "done: False, episode: 10/15, score: -3015.0, e: 0.11, time:5.828104496002197 \n",
            "done: False, episode: 10/15, score: -3528.0, e: 0.11, time:6.79041051864624 \n",
            "done: False, episode: 10/15, score: -4020.0, e: 0.11, time:7.765139102935791 \n",
            "done: False, episode: 10/15, score: -4503.0, e: 0.11, time:8.715321063995361 \n",
            "done: False, episode: 10/15, score: -4984.0, e: 0.11, time:9.656957864761353 \n",
            "done: False, episode: 10/15, score: -5476.0, e: 0.11, time:10.564313411712646 \n",
            "done: False, episode: 10/15, score: -5971.0, e: 0.11, time:11.479171514511108 \n",
            "done: False, episode: 10/15, score: -6480.0, e: 0.11, time:12.482918977737427 \n",
            "done: False, episode: 10/15, score: -6967.0, e: 0.11, time:13.434675216674805 \n",
            "done: False, episode: 10/15, score: -7467.0, e: 0.11, time:14.356459617614746 \n",
            "done: False, episode: 10/15, score: -7956.0, e: 0.11, time:15.267760753631592 \n",
            "done: False, episode: 10/15, score: -8468.0, e: 0.11, time:16.241665601730347 \n",
            "done: False, episode: 10/15, score: -8963.0, e: 0.11, time:17.210816383361816 \n",
            "done: False, episode: 10/15, score: -9469.0, e: 0.11, time:18.15866994857788 \n",
            "done: False, episode: 10/15, score: -9991.0, e: 0.11, time:19.06519103050232 \n",
            "done: False, episode: 10/15, score: -10505.0, e: 0.11, time:20.024215936660767 \n",
            "done: False, episode: 10/15, score: -10998.0, e: 0.11, time:20.989603996276855 \n",
            "done: False, episode: 10/15, score: -11500.0, e: 0.11, time:21.98742938041687 \n",
            "done: False, episode: 10/15, score: -11985.0, e: 0.11, time:22.905086755752563 \n",
            "done: False, episode: 11/15, score: -3.0, e: 0.086, time:0.0043964385986328125 \n",
            "done: False, episode: 11/15, score: -523.0, e: 0.086, time:0.9059972763061523 \n",
            "done: False, episode: 11/15, score: -1033.0, e: 0.086, time:1.7835397720336914 \n",
            "done: False, episode: 11/15, score: -1531.0, e: 0.086, time:2.644869804382324 \n",
            "done: False, episode: 11/15, score: -2034.0, e: 0.086, time:3.5336270332336426 \n",
            "done: False, episode: 11/15, score: -2544.0, e: 0.086, time:4.411874771118164 \n",
            "done: False, episode: 11/15, score: -3039.0, e: 0.086, time:5.294119596481323 \n",
            "done: False, episode: 11/15, score: -3546.0, e: 0.086, time:6.15636944770813 \n",
            "done: False, episode: 11/15, score: -4015.0, e: 0.086, time:7.007724761962891 \n",
            "done: False, episode: 11/15, score: -4515.0, e: 0.086, time:7.872824430465698 \n",
            "done: False, episode: 11/15, score: -5029.0, e: 0.086, time:8.76286768913269 \n",
            "done: True, episode: 11/15, score: 2945.0, e: 0.086, time:8.807312965393066 \n",
            "done: False, episode: 12/15, score: -7.0, e: 0.066, time:0.009810686111450195 \n",
            "done: False, episode: 12/15, score: -501.0, e: 0.066, time:0.9594268798828125 \n",
            "done: False, episode: 12/15, score: -997.0, e: 0.066, time:1.855571985244751 \n",
            "done: False, episode: 12/15, score: -1496.0, e: 0.066, time:2.795929431915283 \n",
            "done: False, episode: 12/15, score: -1965.0, e: 0.066, time:3.710752010345459 \n",
            "done: False, episode: 12/15, score: -2455.0, e: 0.066, time:4.6719348430633545 \n",
            "done: False, episode: 12/15, score: -2944.0, e: 0.066, time:5.572704792022705 \n",
            "done: False, episode: 12/15, score: -3423.0, e: 0.066, time:6.451988697052002 \n",
            "done: False, episode: 12/15, score: -3907.0, e: 0.066, time:7.310836553573608 \n",
            "done: False, episode: 12/15, score: -4385.0, e: 0.066, time:8.24287748336792 \n",
            "done: False, episode: 12/15, score: -4881.0, e: 0.066, time:9.201632499694824 \n",
            "done: False, episode: 12/15, score: -5378.0, e: 0.066, time:10.169078588485718 \n",
            "done: False, episode: 12/15, score: -5859.0, e: 0.066, time:11.142250061035156 \n",
            "done: True, episode: 12/15, score: 1921.0, e: 0.066, time:11.564738988876343 \n",
            "done: False, episode: 13/15, score: -5.0, e: 0.051, time:0.00782012939453125 \n",
            "done: False, episode: 13/15, score: -511.0, e: 0.051, time:0.8919167518615723 \n",
            "done: False, episode: 13/15, score: -1013.0, e: 0.051, time:1.7536280155181885 \n",
            "done: False, episode: 13/15, score: -1536.0, e: 0.051, time:2.6113598346710205 \n",
            "done: False, episode: 13/15, score: -2047.0, e: 0.051, time:3.489434242248535 \n",
            "done: False, episode: 13/15, score: -2531.0, e: 0.051, time:4.351208448410034 \n",
            "done: False, episode: 13/15, score: -3004.0, e: 0.051, time:5.237376928329468 \n",
            "done: False, episode: 13/15, score: -3498.0, e: 0.051, time:6.1092588901519775 \n",
            "done: False, episode: 13/15, score: -3984.0, e: 0.051, time:7.007054805755615 \n",
            "done: False, episode: 13/15, score: -4486.0, e: 0.051, time:7.8833229541778564 \n",
            "done: False, episode: 13/15, score: -4981.0, e: 0.051, time:8.799237728118896 \n",
            "done: False, episode: 13/15, score: -5491.0, e: 0.051, time:9.688225746154785 \n",
            "done: True, episode: 13/15, score: 2482.0, e: 0.051, time:9.740334510803223 \n",
            "done: False, episode: 14/15, score: -7.0, e: 0.039, time:0.008787870407104492 \n",
            "done: False, episode: 14/15, score: -493.0, e: 0.039, time:0.8486678600311279 \n",
            "done: False, episode: 14/15, score: -990.0, e: 0.039, time:1.7158308029174805 \n",
            "done: False, episode: 14/15, score: -1491.0, e: 0.039, time:2.5762486457824707 \n",
            "done: False, episode: 14/15, score: -2009.0, e: 0.039, time:3.4767117500305176 \n",
            "done: False, episode: 14/15, score: -2493.0, e: 0.039, time:4.326520681381226 \n",
            "done: False, episode: 14/15, score: -2974.0, e: 0.039, time:5.194991588592529 \n",
            "done: False, episode: 14/15, score: -3473.0, e: 0.039, time:6.056776523590088 \n",
            "done: False, episode: 14/15, score: -3985.0, e: 0.039, time:6.9504640102386475 \n",
            "done: False, episode: 14/15, score: -4468.0, e: 0.039, time:7.821239471435547 \n",
            "done: False, episode: 14/15, score: -4962.0, e: 0.039, time:8.704212188720703 \n",
            "done: True, episode: 14/15, score: 2941.0, e: 0.039, time:8.894765615463257 \n",
            "0.030103842745720776\n"
          ],
          "name": "stdout"
        }
      ]
    },
    {
      "metadata": {
        "id": "iLknLv7BqvuJ",
        "colab_type": "text"
      },
      "cell_type": "markdown",
      "source": [
        "## Save result"
      ]
    },
    {
      "metadata": {
        "id": "bC2RX7r0UsV2",
        "colab_type": "code",
        "colab": {}
      },
      "cell_type": "code",
      "source": [
        "agent.save('best.h5')"
      ],
      "execution_count": 0,
      "outputs": []
    },
    {
      "metadata": {
        "id": "AheHeujNhFuM",
        "colab_type": "text"
      },
      "cell_type": "markdown",
      "source": [
        "## Play in jupyter notebook"
      ]
    },
    {
      "metadata": {
        "id": "FfS4m8V4rViJ",
        "colab_type": "code",
        "colab": {}
      },
      "cell_type": "code",
      "source": [
        "def show_agent_play(env, agent):\n",
        "    state = env.reset()\n",
        "    state = np.reshape(prepare_state(state), state_size)\n",
        "    env.render(mode='rgb_array')\n",
        "    done = False\n",
        "    episode_reward = 0\n",
        "    while done != True:\n",
        "        a = agent.act(state)\n",
        "        state2, reward, done, info = env.step(a)\n",
        "        episode_reward += reward\n",
        "        env.render()\n",
        "        state = np.reshape(prepare_state(state2), state_size)\n",
        "    env.close()\n",
        "    return episode_reward"
      ],
      "execution_count": 0,
      "outputs": []
    },
    {
      "metadata": {
        "id": "flG9_O6zrPGV",
        "colab_type": "code",
        "colab": {}
      },
      "cell_type": "code",
      "source": [
        "agent.load('best.h5')\n",
        "agent.epsilon = 0.0"
      ],
      "execution_count": 0,
      "outputs": []
    },
    {
      "metadata": {
        "id": "9NgazrIprbpK",
        "colab_type": "code",
        "outputId": "e37205b3-2d75-450d-e176-ec2eb71ed829",
        "colab": {
          "base_uri": "https://localhost:8080/",
          "height": 1594
        }
      },
      "cell_type": "code",
      "source": [
        "show_agent_play(env, agent)"
      ],
      "execution_count": 0,
      "outputs": [
        {
          "output_type": "error",
          "ename": "NoSuchDisplayException",
          "evalue": "ignored",
          "traceback": [
            "\u001b[0;31m---------------------------------------------------------------------------\u001b[0m",
            "\u001b[0;31mNoSuchDisplayException\u001b[0m                    Traceback (most recent call last)",
            "\u001b[0;32m<ipython-input-13-60f496fa0c53>\u001b[0m in \u001b[0;36m<module>\u001b[0;34m()\u001b[0m\n\u001b[0;32m----> 1\u001b[0;31m \u001b[0mshow_agent_play\u001b[0m\u001b[0;34m(\u001b[0m\u001b[0menv\u001b[0m\u001b[0;34m,\u001b[0m \u001b[0magent\u001b[0m\u001b[0;34m)\u001b[0m\u001b[0;34m\u001b[0m\u001b[0;34m\u001b[0m\u001b[0m\n\u001b[0m",
            "\u001b[0;32m<ipython-input-12-62ef9dcba5cc>\u001b[0m in \u001b[0;36mshow_agent_play\u001b[0;34m(env, agent)\u001b[0m\n\u001b[1;32m      9\u001b[0m         \u001b[0mstate2\u001b[0m\u001b[0;34m,\u001b[0m \u001b[0mreward\u001b[0m\u001b[0;34m,\u001b[0m \u001b[0mdone\u001b[0m\u001b[0;34m,\u001b[0m \u001b[0minfo\u001b[0m \u001b[0;34m=\u001b[0m \u001b[0menv\u001b[0m\u001b[0;34m.\u001b[0m\u001b[0mstep\u001b[0m\u001b[0;34m(\u001b[0m\u001b[0ma\u001b[0m\u001b[0;34m)\u001b[0m\u001b[0;34m\u001b[0m\u001b[0;34m\u001b[0m\u001b[0m\n\u001b[1;32m     10\u001b[0m         \u001b[0mepisode_reward\u001b[0m \u001b[0;34m+=\u001b[0m \u001b[0mreward\u001b[0m\u001b[0;34m\u001b[0m\u001b[0;34m\u001b[0m\u001b[0m\n\u001b[0;32m---> 11\u001b[0;31m         \u001b[0menv\u001b[0m\u001b[0;34m.\u001b[0m\u001b[0mrender\u001b[0m\u001b[0;34m(\u001b[0m\u001b[0;34m)\u001b[0m\u001b[0;34m\u001b[0m\u001b[0;34m\u001b[0m\u001b[0m\n\u001b[0m\u001b[1;32m     12\u001b[0m         \u001b[0mstate\u001b[0m \u001b[0;34m=\u001b[0m \u001b[0mnp\u001b[0m\u001b[0;34m.\u001b[0m\u001b[0mreshape\u001b[0m\u001b[0;34m(\u001b[0m\u001b[0mprepare_state\u001b[0m\u001b[0;34m(\u001b[0m\u001b[0mstate2\u001b[0m\u001b[0;34m)\u001b[0m\u001b[0;34m,\u001b[0m \u001b[0mstate_size\u001b[0m\u001b[0;34m)\u001b[0m\u001b[0;34m\u001b[0m\u001b[0;34m\u001b[0m\u001b[0m\n\u001b[1;32m     13\u001b[0m     \u001b[0menv\u001b[0m\u001b[0;34m.\u001b[0m\u001b[0mclose\u001b[0m\u001b[0;34m(\u001b[0m\u001b[0;34m)\u001b[0m\u001b[0;34m\u001b[0m\u001b[0;34m\u001b[0m\u001b[0m\n",
            "\u001b[0;32m/usr/local/lib/python3.6/dist-packages/gym/core.py\u001b[0m in \u001b[0;36mrender\u001b[0;34m(self, mode, **kwargs)\u001b[0m\n\u001b[1;32m    274\u001b[0m \u001b[0;34m\u001b[0m\u001b[0m\n\u001b[1;32m    275\u001b[0m     \u001b[0;32mdef\u001b[0m \u001b[0mrender\u001b[0m\u001b[0;34m(\u001b[0m\u001b[0mself\u001b[0m\u001b[0;34m,\u001b[0m \u001b[0mmode\u001b[0m\u001b[0;34m=\u001b[0m\u001b[0;34m'human'\u001b[0m\u001b[0;34m,\u001b[0m \u001b[0;34m**\u001b[0m\u001b[0mkwargs\u001b[0m\u001b[0;34m)\u001b[0m\u001b[0;34m:\u001b[0m\u001b[0;34m\u001b[0m\u001b[0;34m\u001b[0m\u001b[0m\n\u001b[0;32m--> 276\u001b[0;31m         \u001b[0;32mreturn\u001b[0m \u001b[0mself\u001b[0m\u001b[0;34m.\u001b[0m\u001b[0menv\u001b[0m\u001b[0;34m.\u001b[0m\u001b[0mrender\u001b[0m\u001b[0;34m(\u001b[0m\u001b[0mmode\u001b[0m\u001b[0;34m,\u001b[0m \u001b[0;34m**\u001b[0m\u001b[0mkwargs\u001b[0m\u001b[0;34m)\u001b[0m\u001b[0;34m\u001b[0m\u001b[0;34m\u001b[0m\u001b[0m\n\u001b[0m\u001b[1;32m    277\u001b[0m \u001b[0;34m\u001b[0m\u001b[0m\n\u001b[1;32m    278\u001b[0m     \u001b[0;32mdef\u001b[0m \u001b[0mclose\u001b[0m\u001b[0;34m(\u001b[0m\u001b[0mself\u001b[0m\u001b[0;34m)\u001b[0m\u001b[0;34m:\u001b[0m\u001b[0;34m\u001b[0m\u001b[0;34m\u001b[0m\u001b[0m\n",
            "\u001b[0;32m/usr/local/lib/python3.6/dist-packages/gym/envs/atari/atari_env.py\u001b[0m in \u001b[0;36mrender\u001b[0;34m(self, mode)\u001b[0m\n\u001b[1;32m    107\u001b[0m             \u001b[0;32mreturn\u001b[0m \u001b[0mimg\u001b[0m\u001b[0;34m\u001b[0m\u001b[0;34m\u001b[0m\u001b[0m\n\u001b[1;32m    108\u001b[0m         \u001b[0;32melif\u001b[0m \u001b[0mmode\u001b[0m \u001b[0;34m==\u001b[0m \u001b[0;34m'human'\u001b[0m\u001b[0;34m:\u001b[0m\u001b[0;34m\u001b[0m\u001b[0;34m\u001b[0m\u001b[0m\n\u001b[0;32m--> 109\u001b[0;31m             \u001b[0;32mfrom\u001b[0m \u001b[0mgym\u001b[0m\u001b[0;34m.\u001b[0m\u001b[0menvs\u001b[0m\u001b[0;34m.\u001b[0m\u001b[0mclassic_control\u001b[0m \u001b[0;32mimport\u001b[0m \u001b[0mrendering\u001b[0m\u001b[0;34m\u001b[0m\u001b[0;34m\u001b[0m\u001b[0m\n\u001b[0m\u001b[1;32m    110\u001b[0m             \u001b[0;32mif\u001b[0m \u001b[0mself\u001b[0m\u001b[0;34m.\u001b[0m\u001b[0mviewer\u001b[0m \u001b[0;32mis\u001b[0m \u001b[0;32mNone\u001b[0m\u001b[0;34m:\u001b[0m\u001b[0;34m\u001b[0m\u001b[0;34m\u001b[0m\u001b[0m\n\u001b[1;32m    111\u001b[0m                 \u001b[0mself\u001b[0m\u001b[0;34m.\u001b[0m\u001b[0mviewer\u001b[0m \u001b[0;34m=\u001b[0m \u001b[0mrendering\u001b[0m\u001b[0;34m.\u001b[0m\u001b[0mSimpleImageViewer\u001b[0m\u001b[0;34m(\u001b[0m\u001b[0;34m)\u001b[0m\u001b[0;34m\u001b[0m\u001b[0;34m\u001b[0m\u001b[0m\n",
            "\u001b[0;32m/usr/local/lib/python3.6/dist-packages/gym/envs/classic_control/rendering.py\u001b[0m in \u001b[0;36m<module>\u001b[0;34m()\u001b[0m\n\u001b[1;32m     21\u001b[0m \u001b[0;34m\u001b[0m\u001b[0m\n\u001b[1;32m     22\u001b[0m \u001b[0;32mtry\u001b[0m\u001b[0;34m:\u001b[0m\u001b[0;34m\u001b[0m\u001b[0;34m\u001b[0m\u001b[0m\n\u001b[0;32m---> 23\u001b[0;31m     \u001b[0;32mfrom\u001b[0m \u001b[0mpyglet\u001b[0m\u001b[0;34m.\u001b[0m\u001b[0mgl\u001b[0m \u001b[0;32mimport\u001b[0m \u001b[0;34m*\u001b[0m\u001b[0;34m\u001b[0m\u001b[0;34m\u001b[0m\u001b[0m\n\u001b[0m\u001b[1;32m     24\u001b[0m \u001b[0;32mexcept\u001b[0m \u001b[0mImportError\u001b[0m \u001b[0;32mas\u001b[0m \u001b[0me\u001b[0m\u001b[0;34m:\u001b[0m\u001b[0;34m\u001b[0m\u001b[0;34m\u001b[0m\u001b[0m\n\u001b[1;32m     25\u001b[0m     \u001b[0mreraise\u001b[0m\u001b[0;34m(\u001b[0m\u001b[0mprefix\u001b[0m\u001b[0;34m=\u001b[0m\u001b[0;34m\"Error occured while running `from pyglet.gl import *`\"\u001b[0m\u001b[0;34m,\u001b[0m\u001b[0msuffix\u001b[0m\u001b[0;34m=\u001b[0m\u001b[0;34m\"HINT: make sure you have OpenGL install. On Ubuntu, you can run 'apt-get install python-opengl'. If you're running on a server, you may need a virtual frame buffer; something like this should work: 'xvfb-run -s \\\"-screen 0 1400x900x24\\\" python <your_script.py>'\"\u001b[0m\u001b[0;34m)\u001b[0m\u001b[0;34m\u001b[0m\u001b[0;34m\u001b[0m\u001b[0m\n",
            "\u001b[0;32m/usr/local/lib/python3.6/dist-packages/pyglet/gl/__init__.py\u001b[0m in \u001b[0;36m<module>\u001b[0;34m()\u001b[0m\n\u001b[1;32m    237\u001b[0m     \u001b[0;31m# trickery is for circular import\u001b[0m\u001b[0;34m\u001b[0m\u001b[0;34m\u001b[0m\u001b[0;34m\u001b[0m\u001b[0m\n\u001b[1;32m    238\u001b[0m     \u001b[0m_pyglet\u001b[0m\u001b[0;34m.\u001b[0m\u001b[0mgl\u001b[0m \u001b[0;34m=\u001b[0m \u001b[0m_sys\u001b[0m\u001b[0;34m.\u001b[0m\u001b[0mmodules\u001b[0m\u001b[0;34m[\u001b[0m\u001b[0m__name__\u001b[0m\u001b[0;34m]\u001b[0m\u001b[0;34m\u001b[0m\u001b[0;34m\u001b[0m\u001b[0m\n\u001b[0;32m--> 239\u001b[0;31m     \u001b[0;32mimport\u001b[0m \u001b[0mpyglet\u001b[0m\u001b[0;34m.\u001b[0m\u001b[0mwindow\u001b[0m\u001b[0;34m\u001b[0m\u001b[0;34m\u001b[0m\u001b[0m\n\u001b[0m",
            "\u001b[0;32m/usr/local/lib/python3.6/dist-packages/pyglet/window/__init__.py\u001b[0m in \u001b[0;36m<module>\u001b[0;34m()\u001b[0m\n\u001b[1;32m   1894\u001b[0m \u001b[0;32mif\u001b[0m \u001b[0;32mnot\u001b[0m \u001b[0m_is_pyglet_docgen\u001b[0m\u001b[0;34m:\u001b[0m\u001b[0;34m\u001b[0m\u001b[0;34m\u001b[0m\u001b[0m\n\u001b[1;32m   1895\u001b[0m     \u001b[0mpyglet\u001b[0m\u001b[0;34m.\u001b[0m\u001b[0mwindow\u001b[0m \u001b[0;34m=\u001b[0m \u001b[0msys\u001b[0m\u001b[0;34m.\u001b[0m\u001b[0mmodules\u001b[0m\u001b[0;34m[\u001b[0m\u001b[0m__name__\u001b[0m\u001b[0;34m]\u001b[0m\u001b[0;34m\u001b[0m\u001b[0;34m\u001b[0m\u001b[0m\n\u001b[0;32m-> 1896\u001b[0;31m     \u001b[0mgl\u001b[0m\u001b[0;34m.\u001b[0m\u001b[0m_create_shadow_window\u001b[0m\u001b[0;34m(\u001b[0m\u001b[0;34m)\u001b[0m\u001b[0;34m\u001b[0m\u001b[0;34m\u001b[0m\u001b[0m\n\u001b[0m\u001b[1;32m   1897\u001b[0m \u001b[0;34m\u001b[0m\u001b[0m\n",
            "\u001b[0;32m/usr/local/lib/python3.6/dist-packages/pyglet/gl/__init__.py\u001b[0m in \u001b[0;36m_create_shadow_window\u001b[0;34m()\u001b[0m\n\u001b[1;32m    206\u001b[0m \u001b[0;34m\u001b[0m\u001b[0m\n\u001b[1;32m    207\u001b[0m     \u001b[0;32mfrom\u001b[0m \u001b[0mpyglet\u001b[0m\u001b[0;34m.\u001b[0m\u001b[0mwindow\u001b[0m \u001b[0;32mimport\u001b[0m \u001b[0mWindow\u001b[0m\u001b[0;34m\u001b[0m\u001b[0;34m\u001b[0m\u001b[0m\n\u001b[0;32m--> 208\u001b[0;31m     \u001b[0m_shadow_window\u001b[0m \u001b[0;34m=\u001b[0m \u001b[0mWindow\u001b[0m\u001b[0;34m(\u001b[0m\u001b[0mwidth\u001b[0m\u001b[0;34m=\u001b[0m\u001b[0;36m1\u001b[0m\u001b[0;34m,\u001b[0m \u001b[0mheight\u001b[0m\u001b[0;34m=\u001b[0m\u001b[0;36m1\u001b[0m\u001b[0;34m,\u001b[0m \u001b[0mvisible\u001b[0m\u001b[0;34m=\u001b[0m\u001b[0;32mFalse\u001b[0m\u001b[0;34m)\u001b[0m\u001b[0;34m\u001b[0m\u001b[0;34m\u001b[0m\u001b[0m\n\u001b[0m\u001b[1;32m    209\u001b[0m     \u001b[0m_shadow_window\u001b[0m\u001b[0;34m.\u001b[0m\u001b[0mswitch_to\u001b[0m\u001b[0;34m(\u001b[0m\u001b[0;34m)\u001b[0m\u001b[0;34m\u001b[0m\u001b[0;34m\u001b[0m\u001b[0m\n\u001b[1;32m    210\u001b[0m \u001b[0;34m\u001b[0m\u001b[0m\n",
            "\u001b[0;32m/usr/local/lib/python3.6/dist-packages/pyglet/window/xlib/__init__.py\u001b[0m in \u001b[0;36m__init__\u001b[0;34m(self, *args, **kwargs)\u001b[0m\n\u001b[1;32m    164\u001b[0m                     \u001b[0mself\u001b[0m\u001b[0;34m.\u001b[0m\u001b[0m_event_handlers\u001b[0m\u001b[0;34m[\u001b[0m\u001b[0mmessage\u001b[0m\u001b[0;34m]\u001b[0m \u001b[0;34m=\u001b[0m \u001b[0mfunc\u001b[0m\u001b[0;34m\u001b[0m\u001b[0;34m\u001b[0m\u001b[0m\n\u001b[1;32m    165\u001b[0m \u001b[0;34m\u001b[0m\u001b[0m\n\u001b[0;32m--> 166\u001b[0;31m         \u001b[0msuper\u001b[0m\u001b[0;34m(\u001b[0m\u001b[0mXlibWindow\u001b[0m\u001b[0;34m,\u001b[0m \u001b[0mself\u001b[0m\u001b[0;34m)\u001b[0m\u001b[0;34m.\u001b[0m\u001b[0m__init__\u001b[0m\u001b[0;34m(\u001b[0m\u001b[0;34m*\u001b[0m\u001b[0margs\u001b[0m\u001b[0;34m,\u001b[0m \u001b[0;34m**\u001b[0m\u001b[0mkwargs\u001b[0m\u001b[0;34m)\u001b[0m\u001b[0;34m\u001b[0m\u001b[0;34m\u001b[0m\u001b[0m\n\u001b[0m\u001b[1;32m    167\u001b[0m \u001b[0;34m\u001b[0m\u001b[0m\n\u001b[1;32m    168\u001b[0m         \u001b[0;32mglobal\u001b[0m \u001b[0m_can_detect_autorepeat\u001b[0m\u001b[0;34m\u001b[0m\u001b[0;34m\u001b[0m\u001b[0m\n",
            "\u001b[0;32m/usr/local/lib/python3.6/dist-packages/pyglet/window/__init__.py\u001b[0m in \u001b[0;36m__init__\u001b[0;34m(self, width, height, caption, resizable, style, fullscreen, visible, vsync, display, screen, config, context, mode)\u001b[0m\n\u001b[1;32m    499\u001b[0m \u001b[0;34m\u001b[0m\u001b[0m\n\u001b[1;32m    500\u001b[0m         \u001b[0;32mif\u001b[0m \u001b[0;32mnot\u001b[0m \u001b[0mdisplay\u001b[0m\u001b[0;34m:\u001b[0m\u001b[0;34m\u001b[0m\u001b[0;34m\u001b[0m\u001b[0m\n\u001b[0;32m--> 501\u001b[0;31m             \u001b[0mdisplay\u001b[0m \u001b[0;34m=\u001b[0m \u001b[0mget_platform\u001b[0m\u001b[0;34m(\u001b[0m\u001b[0;34m)\u001b[0m\u001b[0;34m.\u001b[0m\u001b[0mget_default_display\u001b[0m\u001b[0;34m(\u001b[0m\u001b[0;34m)\u001b[0m\u001b[0;34m\u001b[0m\u001b[0;34m\u001b[0m\u001b[0m\n\u001b[0m\u001b[1;32m    502\u001b[0m \u001b[0;34m\u001b[0m\u001b[0m\n\u001b[1;32m    503\u001b[0m         \u001b[0;32mif\u001b[0m \u001b[0;32mnot\u001b[0m \u001b[0mscreen\u001b[0m\u001b[0;34m:\u001b[0m\u001b[0;34m\u001b[0m\u001b[0;34m\u001b[0m\u001b[0m\n",
            "\u001b[0;32m/usr/local/lib/python3.6/dist-packages/pyglet/window/__init__.py\u001b[0m in \u001b[0;36mget_default_display\u001b[0;34m(self)\u001b[0m\n\u001b[1;32m   1843\u001b[0m         \u001b[0;34m:\u001b[0m\u001b[0mrtype\u001b[0m\u001b[0;34m:\u001b[0m\u001b[0;31m \u001b[0m\u001b[0;31m`\u001b[0m\u001b[0mDisplay\u001b[0m\u001b[0;31m`\u001b[0m\u001b[0;34m\u001b[0m\u001b[0;34m\u001b[0m\u001b[0m\n\u001b[1;32m   1844\u001b[0m         \"\"\"\n\u001b[0;32m-> 1845\u001b[0;31m         \u001b[0;32mreturn\u001b[0m \u001b[0mpyglet\u001b[0m\u001b[0;34m.\u001b[0m\u001b[0mcanvas\u001b[0m\u001b[0;34m.\u001b[0m\u001b[0mget_display\u001b[0m\u001b[0;34m(\u001b[0m\u001b[0;34m)\u001b[0m\u001b[0;34m\u001b[0m\u001b[0;34m\u001b[0m\u001b[0m\n\u001b[0m\u001b[1;32m   1846\u001b[0m \u001b[0;34m\u001b[0m\u001b[0m\n\u001b[1;32m   1847\u001b[0m \u001b[0;32mif\u001b[0m \u001b[0m_is_pyglet_docgen\u001b[0m\u001b[0;34m:\u001b[0m\u001b[0;34m\u001b[0m\u001b[0;34m\u001b[0m\u001b[0m\n",
            "\u001b[0;32m/usr/local/lib/python3.6/dist-packages/pyglet/canvas/__init__.py\u001b[0m in \u001b[0;36mget_display\u001b[0;34m()\u001b[0m\n\u001b[1;32m     80\u001b[0m \u001b[0;34m\u001b[0m\u001b[0m\n\u001b[1;32m     81\u001b[0m     \u001b[0;31m# Otherwise, create a new display and return it.\u001b[0m\u001b[0;34m\u001b[0m\u001b[0;34m\u001b[0m\u001b[0;34m\u001b[0m\u001b[0m\n\u001b[0;32m---> 82\u001b[0;31m     \u001b[0;32mreturn\u001b[0m \u001b[0mDisplay\u001b[0m\u001b[0;34m(\u001b[0m\u001b[0;34m)\u001b[0m\u001b[0;34m\u001b[0m\u001b[0;34m\u001b[0m\u001b[0m\n\u001b[0m\u001b[1;32m     83\u001b[0m \u001b[0;34m\u001b[0m\u001b[0m\n\u001b[1;32m     84\u001b[0m \u001b[0;32mif\u001b[0m \u001b[0m_is_pyglet_docgen\u001b[0m\u001b[0;34m:\u001b[0m\u001b[0;34m\u001b[0m\u001b[0;34m\u001b[0m\u001b[0m\n",
            "\u001b[0;32m/usr/local/lib/python3.6/dist-packages/pyglet/canvas/xlib.py\u001b[0m in \u001b[0;36m__init__\u001b[0;34m(self, name, x_screen)\u001b[0m\n\u001b[1;32m     84\u001b[0m         \u001b[0mself\u001b[0m\u001b[0;34m.\u001b[0m\u001b[0m_display\u001b[0m \u001b[0;34m=\u001b[0m \u001b[0mxlib\u001b[0m\u001b[0;34m.\u001b[0m\u001b[0mXOpenDisplay\u001b[0m\u001b[0;34m(\u001b[0m\u001b[0mname\u001b[0m\u001b[0;34m)\u001b[0m\u001b[0;34m\u001b[0m\u001b[0;34m\u001b[0m\u001b[0m\n\u001b[1;32m     85\u001b[0m         \u001b[0;32mif\u001b[0m \u001b[0;32mnot\u001b[0m \u001b[0mself\u001b[0m\u001b[0;34m.\u001b[0m\u001b[0m_display\u001b[0m\u001b[0;34m:\u001b[0m\u001b[0;34m\u001b[0m\u001b[0;34m\u001b[0m\u001b[0m\n\u001b[0;32m---> 86\u001b[0;31m             \u001b[0;32mraise\u001b[0m \u001b[0mNoSuchDisplayException\u001b[0m\u001b[0;34m(\u001b[0m\u001b[0;34m'Cannot connect to \"%s\"'\u001b[0m \u001b[0;34m%\u001b[0m \u001b[0mname\u001b[0m\u001b[0;34m)\u001b[0m\u001b[0;34m\u001b[0m\u001b[0;34m\u001b[0m\u001b[0m\n\u001b[0m\u001b[1;32m     87\u001b[0m \u001b[0;34m\u001b[0m\u001b[0m\n\u001b[1;32m     88\u001b[0m         \u001b[0mscreen_count\u001b[0m \u001b[0;34m=\u001b[0m \u001b[0mxlib\u001b[0m\u001b[0;34m.\u001b[0m\u001b[0mXScreenCount\u001b[0m\u001b[0;34m(\u001b[0m\u001b[0mself\u001b[0m\u001b[0;34m.\u001b[0m\u001b[0m_display\u001b[0m\u001b[0;34m)\u001b[0m\u001b[0;34m\u001b[0m\u001b[0;34m\u001b[0m\u001b[0m\n",
            "\u001b[0;31mNoSuchDisplayException\u001b[0m: Cannot connect to \"None\""
          ]
        }
      ]
    },
    {
      "metadata": {
        "id": "4U5vY4vXrsLx",
        "colab_type": "text"
      },
      "cell_type": "markdown",
      "source": [
        "### About agent playing\n",
        "\n",
        "If `epsilon = 0.0`, agent sky down the slope, ignoring flags.\n",
        "If epsilon is bigger you may notice some random actions."
      ]
    },
    {
      "metadata": {
        "id": "zKso0I8Pqzg6",
        "colab_type": "text"
      },
      "cell_type": "markdown",
      "source": [
        "## Playing in colab:"
      ]
    },
    {
      "metadata": {
        "id": "OL-kp4Lu1A0x",
        "colab_type": "code",
        "colab": {}
      },
      "cell_type": "code",
      "source": [
        "agent.epsilon = 0.0"
      ],
      "execution_count": 0,
      "outputs": []
    },
    {
      "metadata": {
        "id": "5P3x_AU9VN2p",
        "colab_type": "code",
        "colab": {}
      },
      "cell_type": "code",
      "source": [
        "import matplotlib.pyplot as plt\n",
        "%matplotlib inline\n",
        "from IPython import display"
      ],
      "execution_count": 0,
      "outputs": []
    },
    {
      "metadata": {
        "id": "C5VpKNW6TQiL",
        "colab_type": "code",
        "colab": {}
      },
      "cell_type": "code",
      "source": [
        "from time import sleep\n",
        "def show_agent_play(env, agent):\n",
        "    state = env.reset()\n",
        "    state = np.reshape(prepare_state(state), state_size)\n",
        "    plt.imshow(env.render(mode='rgb_array'))\n",
        "    #plt.title(\"%s | Step: %d %s\" % (env._spec.id,step, info))\n",
        "    plt.axis('off')\n",
        "    display.clear_output(wait=True)\n",
        "    display.display(plt.gcf())\n",
        "    done = False\n",
        "    episode_reward = 0\n",
        "    while done != True:\n",
        "        a = agent.act(state)\n",
        "        state2, reward, done, info = env.step(a)\n",
        "        episode_reward += reward\n",
        "        plt.imshow(env.render(mode='rgb_array'))\n",
        "        #plt.title(\"%s | Step: %d %s\" % (env._spec.id,step, info))\n",
        "        plt.axis('off')\n",
        "        display.clear_output(wait=True)\n",
        "        display.display(plt.gcf())\n",
        "        state = np.reshape(prepare_state(state2), state_size)\n",
        "    env.close()\n",
        "    return episode_reward"
      ],
      "execution_count": 0,
      "outputs": []
    },
    {
      "metadata": {
        "id": "9ADqyZxPTftT",
        "colab_type": "code",
        "outputId": "4b6590d9-4f12-4243-e950-c7c77fda79c9",
        "colab": {
          "base_uri": "https://localhost:8080/",
          "height": 2176
        }
      },
      "cell_type": "code",
      "source": [
        "show_agent_play(env, agent)"
      ],
      "execution_count": 13,
      "outputs": [
        {
          "output_type": "error",
          "ename": "KeyboardInterrupt",
          "evalue": "ignored",
          "traceback": [
            "\u001b[0;31m---------------------------------------------------------------------------\u001b[0m",
            "\u001b[0;31mKeyboardInterrupt\u001b[0m                         Traceback (most recent call last)",
            "\u001b[0;32m<ipython-input-13-60f496fa0c53>\u001b[0m in \u001b[0;36m<module>\u001b[0;34m()\u001b[0m\n\u001b[0;32m----> 1\u001b[0;31m \u001b[0mshow_agent_play\u001b[0m\u001b[0;34m(\u001b[0m\u001b[0menv\u001b[0m\u001b[0;34m,\u001b[0m \u001b[0magent\u001b[0m\u001b[0;34m)\u001b[0m\u001b[0;34m\u001b[0m\u001b[0;34m\u001b[0m\u001b[0m\n\u001b[0m",
            "\u001b[0;32m<ipython-input-12-ea92f8b1b898>\u001b[0m in \u001b[0;36mshow_agent_play\u001b[0;34m(env, agent)\u001b[0m\n\u001b[1;32m     18\u001b[0m         \u001b[0mplt\u001b[0m\u001b[0;34m.\u001b[0m\u001b[0maxis\u001b[0m\u001b[0;34m(\u001b[0m\u001b[0;34m'off'\u001b[0m\u001b[0;34m)\u001b[0m\u001b[0;34m\u001b[0m\u001b[0;34m\u001b[0m\u001b[0m\n\u001b[1;32m     19\u001b[0m         \u001b[0mdisplay\u001b[0m\u001b[0;34m.\u001b[0m\u001b[0mclear_output\u001b[0m\u001b[0;34m(\u001b[0m\u001b[0mwait\u001b[0m\u001b[0;34m=\u001b[0m\u001b[0;32mTrue\u001b[0m\u001b[0;34m)\u001b[0m\u001b[0;34m\u001b[0m\u001b[0;34m\u001b[0m\u001b[0m\n\u001b[0;32m---> 20\u001b[0;31m         \u001b[0mdisplay\u001b[0m\u001b[0;34m.\u001b[0m\u001b[0mdisplay\u001b[0m\u001b[0;34m(\u001b[0m\u001b[0mplt\u001b[0m\u001b[0;34m.\u001b[0m\u001b[0mgcf\u001b[0m\u001b[0;34m(\u001b[0m\u001b[0;34m)\u001b[0m\u001b[0;34m)\u001b[0m\u001b[0;34m\u001b[0m\u001b[0;34m\u001b[0m\u001b[0m\n\u001b[0m\u001b[1;32m     21\u001b[0m         \u001b[0mstate\u001b[0m \u001b[0;34m=\u001b[0m \u001b[0mnp\u001b[0m\u001b[0;34m.\u001b[0m\u001b[0mreshape\u001b[0m\u001b[0;34m(\u001b[0m\u001b[0mprepare_state\u001b[0m\u001b[0;34m(\u001b[0m\u001b[0mstate2\u001b[0m\u001b[0;34m)\u001b[0m\u001b[0;34m,\u001b[0m \u001b[0mstate_size\u001b[0m\u001b[0;34m)\u001b[0m\u001b[0;34m\u001b[0m\u001b[0;34m\u001b[0m\u001b[0m\n\u001b[1;32m     22\u001b[0m     \u001b[0menv\u001b[0m\u001b[0;34m.\u001b[0m\u001b[0mclose\u001b[0m\u001b[0;34m(\u001b[0m\u001b[0;34m)\u001b[0m\u001b[0;34m\u001b[0m\u001b[0;34m\u001b[0m\u001b[0m\n",
            "\u001b[0;32m/usr/local/lib/python3.6/dist-packages/IPython/core/display.py\u001b[0m in \u001b[0;36mdisplay\u001b[0;34m(*objs, **kwargs)\u001b[0m\n\u001b[1;32m    304\u001b[0m             \u001b[0mpublish_display_data\u001b[0m\u001b[0;34m(\u001b[0m\u001b[0mdata\u001b[0m\u001b[0;34m=\u001b[0m\u001b[0mobj\u001b[0m\u001b[0;34m,\u001b[0m \u001b[0mmetadata\u001b[0m\u001b[0;34m=\u001b[0m\u001b[0mmetadata\u001b[0m\u001b[0;34m,\u001b[0m \u001b[0;34m**\u001b[0m\u001b[0mkwargs\u001b[0m\u001b[0;34m)\u001b[0m\u001b[0;34m\u001b[0m\u001b[0;34m\u001b[0m\u001b[0m\n\u001b[1;32m    305\u001b[0m         \u001b[0;32melse\u001b[0m\u001b[0;34m:\u001b[0m\u001b[0;34m\u001b[0m\u001b[0;34m\u001b[0m\u001b[0m\n\u001b[0;32m--> 306\u001b[0;31m             \u001b[0mformat_dict\u001b[0m\u001b[0;34m,\u001b[0m \u001b[0mmd_dict\u001b[0m \u001b[0;34m=\u001b[0m \u001b[0mformat\u001b[0m\u001b[0;34m(\u001b[0m\u001b[0mobj\u001b[0m\u001b[0;34m,\u001b[0m \u001b[0minclude\u001b[0m\u001b[0;34m=\u001b[0m\u001b[0minclude\u001b[0m\u001b[0;34m,\u001b[0m \u001b[0mexclude\u001b[0m\u001b[0;34m=\u001b[0m\u001b[0mexclude\u001b[0m\u001b[0;34m)\u001b[0m\u001b[0;34m\u001b[0m\u001b[0;34m\u001b[0m\u001b[0m\n\u001b[0m\u001b[1;32m    307\u001b[0m             \u001b[0;32mif\u001b[0m \u001b[0;32mnot\u001b[0m \u001b[0mformat_dict\u001b[0m\u001b[0;34m:\u001b[0m\u001b[0;34m\u001b[0m\u001b[0;34m\u001b[0m\u001b[0m\n\u001b[1;32m    308\u001b[0m                 \u001b[0;31m# nothing to display (e.g. _ipython_display_ took over)\u001b[0m\u001b[0;34m\u001b[0m\u001b[0;34m\u001b[0m\u001b[0;34m\u001b[0m\u001b[0m\n",
            "\u001b[0;32m/usr/local/lib/python3.6/dist-packages/IPython/core/formatters.py\u001b[0m in \u001b[0;36mformat\u001b[0;34m(self, obj, include, exclude)\u001b[0m\n\u001b[1;32m    171\u001b[0m             \u001b[0mmd\u001b[0m \u001b[0;34m=\u001b[0m \u001b[0;32mNone\u001b[0m\u001b[0;34m\u001b[0m\u001b[0;34m\u001b[0m\u001b[0m\n\u001b[1;32m    172\u001b[0m             \u001b[0;32mtry\u001b[0m\u001b[0;34m:\u001b[0m\u001b[0;34m\u001b[0m\u001b[0;34m\u001b[0m\u001b[0m\n\u001b[0;32m--> 173\u001b[0;31m                 \u001b[0mdata\u001b[0m \u001b[0;34m=\u001b[0m \u001b[0mformatter\u001b[0m\u001b[0;34m(\u001b[0m\u001b[0mobj\u001b[0m\u001b[0;34m)\u001b[0m\u001b[0;34m\u001b[0m\u001b[0;34m\u001b[0m\u001b[0m\n\u001b[0m\u001b[1;32m    174\u001b[0m             \u001b[0;32mexcept\u001b[0m\u001b[0;34m:\u001b[0m\u001b[0;34m\u001b[0m\u001b[0;34m\u001b[0m\u001b[0m\n\u001b[1;32m    175\u001b[0m                 \u001b[0;31m# FIXME: log the exception\u001b[0m\u001b[0;34m\u001b[0m\u001b[0;34m\u001b[0m\u001b[0;34m\u001b[0m\u001b[0m\n",
            "\u001b[0;32m</usr/local/lib/python3.6/dist-packages/decorator.py:decorator-gen-9>\u001b[0m in \u001b[0;36m__call__\u001b[0;34m(self, obj)\u001b[0m\n",
            "\u001b[0;32m/usr/local/lib/python3.6/dist-packages/IPython/core/formatters.py\u001b[0m in \u001b[0;36mcatch_format_error\u001b[0;34m(method, self, *args, **kwargs)\u001b[0m\n\u001b[1;32m    215\u001b[0m     \u001b[0;34m\"\"\"show traceback on failed format call\"\"\"\u001b[0m\u001b[0;34m\u001b[0m\u001b[0;34m\u001b[0m\u001b[0m\n\u001b[1;32m    216\u001b[0m     \u001b[0;32mtry\u001b[0m\u001b[0;34m:\u001b[0m\u001b[0;34m\u001b[0m\u001b[0;34m\u001b[0m\u001b[0m\n\u001b[0;32m--> 217\u001b[0;31m         \u001b[0mr\u001b[0m \u001b[0;34m=\u001b[0m \u001b[0mmethod\u001b[0m\u001b[0;34m(\u001b[0m\u001b[0mself\u001b[0m\u001b[0;34m,\u001b[0m \u001b[0;34m*\u001b[0m\u001b[0margs\u001b[0m\u001b[0;34m,\u001b[0m \u001b[0;34m**\u001b[0m\u001b[0mkwargs\u001b[0m\u001b[0;34m)\u001b[0m\u001b[0;34m\u001b[0m\u001b[0;34m\u001b[0m\u001b[0m\n\u001b[0m\u001b[1;32m    218\u001b[0m     \u001b[0;32mexcept\u001b[0m \u001b[0mNotImplementedError\u001b[0m\u001b[0;34m:\u001b[0m\u001b[0;34m\u001b[0m\u001b[0;34m\u001b[0m\u001b[0m\n\u001b[1;32m    219\u001b[0m         \u001b[0;31m# don't warn on NotImplementedErrors\u001b[0m\u001b[0;34m\u001b[0m\u001b[0;34m\u001b[0m\u001b[0;34m\u001b[0m\u001b[0m\n",
            "\u001b[0;32m/usr/local/lib/python3.6/dist-packages/IPython/core/formatters.py\u001b[0m in \u001b[0;36m__call__\u001b[0;34m(self, obj)\u001b[0m\n\u001b[1;32m    332\u001b[0m                 \u001b[0;32mpass\u001b[0m\u001b[0;34m\u001b[0m\u001b[0;34m\u001b[0m\u001b[0m\n\u001b[1;32m    333\u001b[0m             \u001b[0;32melse\u001b[0m\u001b[0;34m:\u001b[0m\u001b[0;34m\u001b[0m\u001b[0;34m\u001b[0m\u001b[0m\n\u001b[0;32m--> 334\u001b[0;31m                 \u001b[0;32mreturn\u001b[0m \u001b[0mprinter\u001b[0m\u001b[0;34m(\u001b[0m\u001b[0mobj\u001b[0m\u001b[0;34m)\u001b[0m\u001b[0;34m\u001b[0m\u001b[0;34m\u001b[0m\u001b[0m\n\u001b[0m\u001b[1;32m    335\u001b[0m             \u001b[0;31m# Finally look for special method names\u001b[0m\u001b[0;34m\u001b[0m\u001b[0;34m\u001b[0m\u001b[0;34m\u001b[0m\u001b[0m\n\u001b[1;32m    336\u001b[0m             \u001b[0mmethod\u001b[0m \u001b[0;34m=\u001b[0m \u001b[0mget_real_method\u001b[0m\u001b[0;34m(\u001b[0m\u001b[0mobj\u001b[0m\u001b[0;34m,\u001b[0m \u001b[0mself\u001b[0m\u001b[0;34m.\u001b[0m\u001b[0mprint_method\u001b[0m\u001b[0;34m)\u001b[0m\u001b[0;34m\u001b[0m\u001b[0;34m\u001b[0m\u001b[0m\n",
            "\u001b[0;32m/usr/local/lib/python3.6/dist-packages/IPython/core/pylabtools.py\u001b[0m in \u001b[0;36m<lambda>\u001b[0;34m(fig)\u001b[0m\n\u001b[1;32m    239\u001b[0m \u001b[0;34m\u001b[0m\u001b[0m\n\u001b[1;32m    240\u001b[0m     \u001b[0;32mif\u001b[0m \u001b[0;34m'png'\u001b[0m \u001b[0;32min\u001b[0m \u001b[0mformats\u001b[0m\u001b[0;34m:\u001b[0m\u001b[0;34m\u001b[0m\u001b[0;34m\u001b[0m\u001b[0m\n\u001b[0;32m--> 241\u001b[0;31m         \u001b[0mpng_formatter\u001b[0m\u001b[0;34m.\u001b[0m\u001b[0mfor_type\u001b[0m\u001b[0;34m(\u001b[0m\u001b[0mFigure\u001b[0m\u001b[0;34m,\u001b[0m \u001b[0;32mlambda\u001b[0m \u001b[0mfig\u001b[0m\u001b[0;34m:\u001b[0m \u001b[0mprint_figure\u001b[0m\u001b[0;34m(\u001b[0m\u001b[0mfig\u001b[0m\u001b[0;34m,\u001b[0m \u001b[0;34m'png'\u001b[0m\u001b[0;34m,\u001b[0m \u001b[0;34m**\u001b[0m\u001b[0mkwargs\u001b[0m\u001b[0;34m)\u001b[0m\u001b[0;34m)\u001b[0m\u001b[0;34m\u001b[0m\u001b[0;34m\u001b[0m\u001b[0m\n\u001b[0m\u001b[1;32m    242\u001b[0m     \u001b[0;32mif\u001b[0m \u001b[0;34m'retina'\u001b[0m \u001b[0;32min\u001b[0m \u001b[0mformats\u001b[0m \u001b[0;32mor\u001b[0m \u001b[0;34m'png2x'\u001b[0m \u001b[0;32min\u001b[0m \u001b[0mformats\u001b[0m\u001b[0;34m:\u001b[0m\u001b[0;34m\u001b[0m\u001b[0;34m\u001b[0m\u001b[0m\n\u001b[1;32m    243\u001b[0m         \u001b[0mpng_formatter\u001b[0m\u001b[0;34m.\u001b[0m\u001b[0mfor_type\u001b[0m\u001b[0;34m(\u001b[0m\u001b[0mFigure\u001b[0m\u001b[0;34m,\u001b[0m \u001b[0;32mlambda\u001b[0m \u001b[0mfig\u001b[0m\u001b[0;34m:\u001b[0m \u001b[0mretina_figure\u001b[0m\u001b[0;34m(\u001b[0m\u001b[0mfig\u001b[0m\u001b[0;34m,\u001b[0m \u001b[0;34m**\u001b[0m\u001b[0mkwargs\u001b[0m\u001b[0;34m)\u001b[0m\u001b[0;34m)\u001b[0m\u001b[0;34m\u001b[0m\u001b[0;34m\u001b[0m\u001b[0m\n",
            "\u001b[0;32m/usr/local/lib/python3.6/dist-packages/IPython/core/pylabtools.py\u001b[0m in \u001b[0;36mprint_figure\u001b[0;34m(fig, fmt, bbox_inches, **kwargs)\u001b[0m\n\u001b[1;32m    123\u001b[0m \u001b[0;34m\u001b[0m\u001b[0m\n\u001b[1;32m    124\u001b[0m     \u001b[0mbytes_io\u001b[0m \u001b[0;34m=\u001b[0m \u001b[0mBytesIO\u001b[0m\u001b[0;34m(\u001b[0m\u001b[0;34m)\u001b[0m\u001b[0;34m\u001b[0m\u001b[0;34m\u001b[0m\u001b[0m\n\u001b[0;32m--> 125\u001b[0;31m     \u001b[0mfig\u001b[0m\u001b[0;34m.\u001b[0m\u001b[0mcanvas\u001b[0m\u001b[0;34m.\u001b[0m\u001b[0mprint_figure\u001b[0m\u001b[0;34m(\u001b[0m\u001b[0mbytes_io\u001b[0m\u001b[0;34m,\u001b[0m \u001b[0;34m**\u001b[0m\u001b[0mkw\u001b[0m\u001b[0;34m)\u001b[0m\u001b[0;34m\u001b[0m\u001b[0;34m\u001b[0m\u001b[0m\n\u001b[0m\u001b[1;32m    126\u001b[0m     \u001b[0mdata\u001b[0m \u001b[0;34m=\u001b[0m \u001b[0mbytes_io\u001b[0m\u001b[0;34m.\u001b[0m\u001b[0mgetvalue\u001b[0m\u001b[0;34m(\u001b[0m\u001b[0;34m)\u001b[0m\u001b[0;34m\u001b[0m\u001b[0;34m\u001b[0m\u001b[0m\n\u001b[1;32m    127\u001b[0m     \u001b[0;32mif\u001b[0m \u001b[0mfmt\u001b[0m \u001b[0;34m==\u001b[0m \u001b[0;34m'svg'\u001b[0m\u001b[0;34m:\u001b[0m\u001b[0;34m\u001b[0m\u001b[0;34m\u001b[0m\u001b[0m\n",
            "\u001b[0;32m/usr/local/lib/python3.6/dist-packages/matplotlib/backend_bases.py\u001b[0m in \u001b[0;36mprint_figure\u001b[0;34m(self, filename, dpi, facecolor, edgecolor, orientation, format, bbox_inches, **kwargs)\u001b[0m\n\u001b[1;32m   2051\u001b[0m                     \u001b[0mbbox_artists\u001b[0m \u001b[0;34m=\u001b[0m \u001b[0mkwargs\u001b[0m\u001b[0;34m.\u001b[0m\u001b[0mpop\u001b[0m\u001b[0;34m(\u001b[0m\u001b[0;34m\"bbox_extra_artists\"\u001b[0m\u001b[0;34m,\u001b[0m \u001b[0;32mNone\u001b[0m\u001b[0;34m)\u001b[0m\u001b[0;34m\u001b[0m\u001b[0;34m\u001b[0m\u001b[0m\n\u001b[1;32m   2052\u001b[0m                     bbox_inches = self.figure.get_tightbbox(renderer,\n\u001b[0;32m-> 2053\u001b[0;31m                             bbox_extra_artists=bbox_artists)\n\u001b[0m\u001b[1;32m   2054\u001b[0m                     \u001b[0mpad\u001b[0m \u001b[0;34m=\u001b[0m \u001b[0mkwargs\u001b[0m\u001b[0;34m.\u001b[0m\u001b[0mpop\u001b[0m\u001b[0;34m(\u001b[0m\u001b[0;34m\"pad_inches\"\u001b[0m\u001b[0;34m,\u001b[0m \u001b[0;32mNone\u001b[0m\u001b[0;34m)\u001b[0m\u001b[0;34m\u001b[0m\u001b[0;34m\u001b[0m\u001b[0m\n\u001b[1;32m   2055\u001b[0m                     \u001b[0;32mif\u001b[0m \u001b[0mpad\u001b[0m \u001b[0;32mis\u001b[0m \u001b[0;32mNone\u001b[0m\u001b[0;34m:\u001b[0m\u001b[0;34m\u001b[0m\u001b[0;34m\u001b[0m\u001b[0m\n",
            "\u001b[0;32m/usr/local/lib/python3.6/dist-packages/matplotlib/figure.py\u001b[0m in \u001b[0;36mget_tightbbox\u001b[0;34m(self, renderer, bbox_extra_artists)\u001b[0m\n\u001b[1;32m   2268\u001b[0m \u001b[0;34m\u001b[0m\u001b[0m\n\u001b[1;32m   2269\u001b[0m         \u001b[0;32mfor\u001b[0m \u001b[0ma\u001b[0m \u001b[0;32min\u001b[0m \u001b[0martists\u001b[0m\u001b[0;34m:\u001b[0m\u001b[0;34m\u001b[0m\u001b[0;34m\u001b[0m\u001b[0m\n\u001b[0;32m-> 2270\u001b[0;31m             \u001b[0mbbox\u001b[0m \u001b[0;34m=\u001b[0m \u001b[0ma\u001b[0m\u001b[0;34m.\u001b[0m\u001b[0mget_tightbbox\u001b[0m\u001b[0;34m(\u001b[0m\u001b[0mrenderer\u001b[0m\u001b[0;34m)\u001b[0m\u001b[0;34m\u001b[0m\u001b[0;34m\u001b[0m\u001b[0m\n\u001b[0m\u001b[1;32m   2271\u001b[0m             \u001b[0;32mif\u001b[0m \u001b[0mbbox\u001b[0m \u001b[0;32mis\u001b[0m \u001b[0;32mnot\u001b[0m \u001b[0;32mNone\u001b[0m \u001b[0;32mand\u001b[0m \u001b[0;34m(\u001b[0m\u001b[0mbbox\u001b[0m\u001b[0;34m.\u001b[0m\u001b[0mwidth\u001b[0m \u001b[0;34m!=\u001b[0m \u001b[0;36m0\u001b[0m \u001b[0;32mor\u001b[0m \u001b[0mbbox\u001b[0m\u001b[0;34m.\u001b[0m\u001b[0mheight\u001b[0m \u001b[0;34m!=\u001b[0m \u001b[0;36m0\u001b[0m\u001b[0;34m)\u001b[0m\u001b[0;34m:\u001b[0m\u001b[0;34m\u001b[0m\u001b[0;34m\u001b[0m\u001b[0m\n\u001b[1;32m   2272\u001b[0m                 \u001b[0mbb\u001b[0m\u001b[0;34m.\u001b[0m\u001b[0mappend\u001b[0m\u001b[0;34m(\u001b[0m\u001b[0mbbox\u001b[0m\u001b[0;34m)\u001b[0m\u001b[0;34m\u001b[0m\u001b[0;34m\u001b[0m\u001b[0m\n",
            "\u001b[0;32m/usr/local/lib/python3.6/dist-packages/matplotlib/artist.py\u001b[0m in \u001b[0;36mget_tightbbox\u001b[0;34m(self, renderer)\u001b[0m\n\u001b[1;32m    273\u001b[0m             \u001b[0mclip_box\u001b[0m \u001b[0;34m=\u001b[0m \u001b[0mself\u001b[0m\u001b[0;34m.\u001b[0m\u001b[0mget_clip_box\u001b[0m\u001b[0;34m(\u001b[0m\u001b[0;34m)\u001b[0m\u001b[0;34m\u001b[0m\u001b[0;34m\u001b[0m\u001b[0m\n\u001b[1;32m    274\u001b[0m             \u001b[0;32mif\u001b[0m \u001b[0mclip_box\u001b[0m \u001b[0;32mis\u001b[0m \u001b[0;32mnot\u001b[0m \u001b[0;32mNone\u001b[0m\u001b[0;34m:\u001b[0m\u001b[0;34m\u001b[0m\u001b[0;34m\u001b[0m\u001b[0m\n\u001b[0;32m--> 275\u001b[0;31m                 \u001b[0mbbox\u001b[0m \u001b[0;34m=\u001b[0m \u001b[0mBbox\u001b[0m\u001b[0;34m.\u001b[0m\u001b[0mintersection\u001b[0m\u001b[0;34m(\u001b[0m\u001b[0mbbox\u001b[0m\u001b[0;34m,\u001b[0m \u001b[0mclip_box\u001b[0m\u001b[0;34m)\u001b[0m\u001b[0;34m\u001b[0m\u001b[0;34m\u001b[0m\u001b[0m\n\u001b[0m\u001b[1;32m    276\u001b[0m             \u001b[0mclip_path\u001b[0m \u001b[0;34m=\u001b[0m \u001b[0mself\u001b[0m\u001b[0;34m.\u001b[0m\u001b[0mget_clip_path\u001b[0m\u001b[0;34m(\u001b[0m\u001b[0;34m)\u001b[0m\u001b[0;34m\u001b[0m\u001b[0;34m\u001b[0m\u001b[0m\n\u001b[1;32m    277\u001b[0m             \u001b[0;32mif\u001b[0m \u001b[0mclip_path\u001b[0m \u001b[0;32mis\u001b[0m \u001b[0;32mnot\u001b[0m \u001b[0;32mNone\u001b[0m \u001b[0;32mand\u001b[0m \u001b[0mbbox\u001b[0m \u001b[0;32mis\u001b[0m \u001b[0;32mnot\u001b[0m \u001b[0;32mNone\u001b[0m\u001b[0;34m:\u001b[0m\u001b[0;34m\u001b[0m\u001b[0;34m\u001b[0m\u001b[0m\n",
            "\u001b[0;32m/usr/local/lib/python3.6/dist-packages/matplotlib/transforms.py\u001b[0m in \u001b[0;36mintersection\u001b[0;34m(bbox1, bbox2)\u001b[0m\n\u001b[1;32m    746\u001b[0m         \u001b[0mx1\u001b[0m \u001b[0;34m=\u001b[0m \u001b[0mnp\u001b[0m\u001b[0;34m.\u001b[0m\u001b[0mminimum\u001b[0m\u001b[0;34m(\u001b[0m\u001b[0mbbox1\u001b[0m\u001b[0;34m.\u001b[0m\u001b[0mxmax\u001b[0m\u001b[0;34m,\u001b[0m \u001b[0mbbox2\u001b[0m\u001b[0;34m.\u001b[0m\u001b[0mxmax\u001b[0m\u001b[0;34m)\u001b[0m\u001b[0;34m\u001b[0m\u001b[0;34m\u001b[0m\u001b[0m\n\u001b[1;32m    747\u001b[0m         \u001b[0my0\u001b[0m \u001b[0;34m=\u001b[0m \u001b[0mnp\u001b[0m\u001b[0;34m.\u001b[0m\u001b[0mmaximum\u001b[0m\u001b[0;34m(\u001b[0m\u001b[0mbbox1\u001b[0m\u001b[0;34m.\u001b[0m\u001b[0mymin\u001b[0m\u001b[0;34m,\u001b[0m \u001b[0mbbox2\u001b[0m\u001b[0;34m.\u001b[0m\u001b[0mymin\u001b[0m\u001b[0;34m)\u001b[0m\u001b[0;34m\u001b[0m\u001b[0;34m\u001b[0m\u001b[0m\n\u001b[0;32m--> 748\u001b[0;31m         \u001b[0my1\u001b[0m \u001b[0;34m=\u001b[0m \u001b[0mnp\u001b[0m\u001b[0;34m.\u001b[0m\u001b[0mminimum\u001b[0m\u001b[0;34m(\u001b[0m\u001b[0mbbox1\u001b[0m\u001b[0;34m.\u001b[0m\u001b[0mymax\u001b[0m\u001b[0;34m,\u001b[0m \u001b[0mbbox2\u001b[0m\u001b[0;34m.\u001b[0m\u001b[0mymax\u001b[0m\u001b[0;34m)\u001b[0m\u001b[0;34m\u001b[0m\u001b[0;34m\u001b[0m\u001b[0m\n\u001b[0m\u001b[1;32m    749\u001b[0m         \u001b[0;32mreturn\u001b[0m \u001b[0mBbox\u001b[0m\u001b[0;34m(\u001b[0m\u001b[0;34m[\u001b[0m\u001b[0;34m[\u001b[0m\u001b[0mx0\u001b[0m\u001b[0;34m,\u001b[0m \u001b[0my0\u001b[0m\u001b[0;34m]\u001b[0m\u001b[0;34m,\u001b[0m \u001b[0;34m[\u001b[0m\u001b[0mx1\u001b[0m\u001b[0;34m,\u001b[0m \u001b[0my1\u001b[0m\u001b[0;34m]\u001b[0m\u001b[0;34m]\u001b[0m\u001b[0;34m)\u001b[0m \u001b[0;32mif\u001b[0m \u001b[0mx0\u001b[0m \u001b[0;34m<=\u001b[0m \u001b[0mx1\u001b[0m \u001b[0;32mand\u001b[0m \u001b[0my0\u001b[0m \u001b[0;34m<=\u001b[0m \u001b[0my1\u001b[0m \u001b[0;32melse\u001b[0m \u001b[0;32mNone\u001b[0m\u001b[0;34m\u001b[0m\u001b[0;34m\u001b[0m\u001b[0m\n\u001b[1;32m    750\u001b[0m \u001b[0;34m\u001b[0m\u001b[0m\n",
            "\u001b[0;32m/usr/local/lib/python3.6/dist-packages/matplotlib/transforms.py\u001b[0m in \u001b[0;36mymax\u001b[0;34m(self)\u001b[0m\n\u001b[1;32m    360\u001b[0m         \u001b[0;34m:\u001b[0m\u001b[0mattr\u001b[0m\u001b[0;34m:\u001b[0m\u001b[0;31m`\u001b[0m\u001b[0mymax\u001b[0m\u001b[0;31m`\u001b[0m \u001b[0;32mis\u001b[0m \u001b[0mthe\u001b[0m \u001b[0mtop\u001b[0m \u001b[0medge\u001b[0m \u001b[0mof\u001b[0m \u001b[0mthe\u001b[0m \u001b[0mbounding\u001b[0m \u001b[0mbox\u001b[0m\u001b[0;34m.\u001b[0m\u001b[0;34m\u001b[0m\u001b[0;34m\u001b[0m\u001b[0m\n\u001b[1;32m    361\u001b[0m         \"\"\"\n\u001b[0;32m--> 362\u001b[0;31m         \u001b[0;32mreturn\u001b[0m \u001b[0mnp\u001b[0m\u001b[0;34m.\u001b[0m\u001b[0mmax\u001b[0m\u001b[0;34m(\u001b[0m\u001b[0mself\u001b[0m\u001b[0;34m.\u001b[0m\u001b[0mget_points\u001b[0m\u001b[0;34m(\u001b[0m\u001b[0;34m)\u001b[0m\u001b[0;34m[\u001b[0m\u001b[0;34m:\u001b[0m\u001b[0;34m,\u001b[0m \u001b[0;36m1\u001b[0m\u001b[0;34m]\u001b[0m\u001b[0;34m)\u001b[0m\u001b[0;34m\u001b[0m\u001b[0;34m\u001b[0m\u001b[0m\n\u001b[0m\u001b[1;32m    363\u001b[0m \u001b[0;34m\u001b[0m\u001b[0m\n\u001b[1;32m    364\u001b[0m     \u001b[0;34m@\u001b[0m\u001b[0mproperty\u001b[0m\u001b[0;34m\u001b[0m\u001b[0;34m\u001b[0m\u001b[0m\n",
            "\u001b[0;32m/usr/local/lib/python3.6/dist-packages/numpy/core/fromnumeric.py\u001b[0m in \u001b[0;36mamax\u001b[0;34m(a, axis, out, keepdims)\u001b[0m\n\u001b[1;32m   2318\u001b[0m \u001b[0;34m\u001b[0m\u001b[0m\n\u001b[1;32m   2319\u001b[0m     return _methods._amax(a, axis=axis,\n\u001b[0;32m-> 2320\u001b[0;31m                           out=out, **kwargs)\n\u001b[0m\u001b[1;32m   2321\u001b[0m \u001b[0;34m\u001b[0m\u001b[0m\n\u001b[1;32m   2322\u001b[0m \u001b[0;34m\u001b[0m\u001b[0m\n",
            "\u001b[0;32m/usr/local/lib/python3.6/dist-packages/numpy/core/_methods.py\u001b[0m in \u001b[0;36m_amax\u001b[0;34m(a, axis, out, keepdims)\u001b[0m\n\u001b[1;32m     24\u001b[0m \u001b[0;31m# small reductions\u001b[0m\u001b[0;34m\u001b[0m\u001b[0;34m\u001b[0m\u001b[0;34m\u001b[0m\u001b[0m\n\u001b[1;32m     25\u001b[0m \u001b[0;32mdef\u001b[0m \u001b[0m_amax\u001b[0m\u001b[0;34m(\u001b[0m\u001b[0ma\u001b[0m\u001b[0;34m,\u001b[0m \u001b[0maxis\u001b[0m\u001b[0;34m=\u001b[0m\u001b[0;32mNone\u001b[0m\u001b[0;34m,\u001b[0m \u001b[0mout\u001b[0m\u001b[0;34m=\u001b[0m\u001b[0;32mNone\u001b[0m\u001b[0;34m,\u001b[0m \u001b[0mkeepdims\u001b[0m\u001b[0;34m=\u001b[0m\u001b[0;32mFalse\u001b[0m\u001b[0;34m)\u001b[0m\u001b[0;34m:\u001b[0m\u001b[0;34m\u001b[0m\u001b[0;34m\u001b[0m\u001b[0m\n\u001b[0;32m---> 26\u001b[0;31m     \u001b[0;32mreturn\u001b[0m \u001b[0mumr_maximum\u001b[0m\u001b[0;34m(\u001b[0m\u001b[0ma\u001b[0m\u001b[0;34m,\u001b[0m \u001b[0maxis\u001b[0m\u001b[0;34m,\u001b[0m \u001b[0;32mNone\u001b[0m\u001b[0;34m,\u001b[0m \u001b[0mout\u001b[0m\u001b[0;34m,\u001b[0m \u001b[0mkeepdims\u001b[0m\u001b[0;34m)\u001b[0m\u001b[0;34m\u001b[0m\u001b[0;34m\u001b[0m\u001b[0m\n\u001b[0m\u001b[1;32m     27\u001b[0m \u001b[0;34m\u001b[0m\u001b[0m\n\u001b[1;32m     28\u001b[0m \u001b[0;32mdef\u001b[0m \u001b[0m_amin\u001b[0m\u001b[0;34m(\u001b[0m\u001b[0ma\u001b[0m\u001b[0;34m,\u001b[0m \u001b[0maxis\u001b[0m\u001b[0;34m=\u001b[0m\u001b[0;32mNone\u001b[0m\u001b[0;34m,\u001b[0m \u001b[0mout\u001b[0m\u001b[0;34m=\u001b[0m\u001b[0;32mNone\u001b[0m\u001b[0;34m,\u001b[0m \u001b[0mkeepdims\u001b[0m\u001b[0;34m=\u001b[0m\u001b[0;32mFalse\u001b[0m\u001b[0;34m)\u001b[0m\u001b[0;34m:\u001b[0m\u001b[0;34m\u001b[0m\u001b[0;34m\u001b[0m\u001b[0m\n",
            "\u001b[0;31mKeyboardInterrupt\u001b[0m: "
          ]
        },
        {
          "output_type": "display_data",
          "data": {
            "image/png": "[encoded data removed]",
            "text/plain": [
              "<Figure size 432x288 with 1 Axes>"
            ]
          },
          "metadata": {
            "tags": []
          }
        }
      ]
    },
    {
      "metadata": {
        "id": "oMlOyQz0rBdb",
        "colab_type": "text"
      },
      "cell_type": "markdown",
      "source": [
        "## Save data"
      ]
    },
    {
      "metadata": {
        "id": "-zJhV8oQWvMw",
        "colab_type": "code",
        "colab": {
          "base_uri": "https://localhost:8080/",
          "height": 52
        },
        "outputId": "cdf39eae-5749-4736-8fe1-6f46528567d1"
      },
      "cell_type": "code",
      "source": [
        "!pip install -U -q PyDrive\n",
        "from pydrive.auth import GoogleAuth\n",
        "from pydrive.drive import GoogleDrive\n",
        "from google.colab import auth\n",
        "from oauth2client.client import GoogleCredentials\n",
        "\n",
        "# 1. Authenticate and create the PyDrive client.\n",
        "auth.authenticate_user()\n",
        "gauth = GoogleAuth()\n",
        "gauth.credentials = GoogleCredentials.get_application_default()\n",
        "drive = GoogleDrive(gauth)\n",
        "\n",
        "from googleapiclient.http import MediaFileUpload\n",
        "from googleapiclient.discovery import build\n",
        "drive_service = build('drive', 'v3')\n",
        "\n",
        "from googleapiclient.discovery import build\n",
        "drive_service = build('drive', 'v3')\n",
        "\n",
        "def saver(name):\n",
        "  file_metadata = {\n",
        "    'name': name + '.h5',\n",
        "    'mimeType': 'application/octet-stream'\n",
        "  }\n",
        "  media = MediaFileUpload(name + '.h5', \n",
        "                          mimetype='application/octet-stream',\n",
        "                          resumable=True)\n",
        "  created = drive_service.files().create(body=file_metadata,\n",
        "                                         media_body=media).execute()\n",
        "  print('File ID: {}'.format(created.get('id')))"
      ],
      "execution_count": 14,
      "outputs": [
        {
          "output_type": "stream",
          "text": [
            "\u001b[?25l\r\u001b[K    1% |▎                               | 10kB 17.7MB/s eta 0:00:01\r\u001b[K    2% |▋                               | 20kB 2.3MB/s eta 0:00:01\r\u001b[K    3% |█                               | 30kB 3.3MB/s eta 0:00:01\r\u001b[K    4% |█▎                              | 40kB 2.1MB/s eta 0:00:01\r\u001b[K    5% |█▋                              | 51kB 2.6MB/s eta 0:00:01\r\u001b[K    6% |██                              | 61kB 3.1MB/s eta 0:00:01\r\u001b[K    7% |██▎                             | 71kB 3.6MB/s eta 0:00:01\r\u001b[K    8% |██▋                             | 81kB 4.0MB/s eta 0:00:01\r\u001b[K    9% |███                             | 92kB 4.5MB/s eta 0:00:01\r\u001b[K    10% |███▎                            | 102kB 3.3MB/s eta 0:00:01\r\u001b[K    11% |███▋                            | 112kB 3.3MB/s eta 0:00:01\r\u001b[K    12% |████                            | 122kB 4.5MB/s eta 0:00:01\r\u001b[K    13% |████▎                           | 133kB 4.5MB/s eta 0:00:01\r\u001b[K    14% |████▋                           | 143kB 7.7MB/s eta 0:00:01\r\u001b[K    15% |█████                           | 153kB 7.7MB/s eta 0:00:01\r\u001b[K    16% |█████▎                          | 163kB 7.7MB/s eta 0:00:01\r\u001b[K    17% |█████▋                          | 174kB 7.7MB/s eta 0:00:01\r\u001b[K    18% |██████                          | 184kB 7.8MB/s eta 0:00:01\r\u001b[K    19% |██████▎                         | 194kB 7.8MB/s eta 0:00:01\r\u001b[K    20% |██████▋                         | 204kB 32.1MB/s eta 0:00:01\r\u001b[K    21% |███████                         | 215kB 10.5MB/s eta 0:00:01\r\u001b[K    22% |███████▎                        | 225kB 10.6MB/s eta 0:00:01\r\u001b[K    23% |███████▋                        | 235kB 10.7MB/s eta 0:00:01\r\u001b[K    24% |████████                        | 245kB 10.6MB/s eta 0:00:01\r\u001b[K    25% |████████▎                       | 256kB 10.5MB/s eta 0:00:01\r\u001b[K    26% |████████▋                       | 266kB 10.2MB/s eta 0:00:01\r\u001b[K    27% |█████████                       | 276kB 10.3MB/s eta 0:00:01\r\u001b[K    29% |█████████▎                      | 286kB 10.3MB/s eta 0:00:01\r\u001b[K    30% |█████████▋                      | 296kB 10.3MB/s eta 0:00:01\r\u001b[K    31% |██████████                      | 307kB 10.7MB/s eta 0:00:01\r\u001b[K    32% |██████████▎                     | 317kB 34.6MB/s eta 0:00:01\r\u001b[K    33% |██████████▋                     | 327kB 34.6MB/s eta 0:00:01\r\u001b[K    34% |███████████                     | 337kB 35.7MB/s eta 0:00:01\r\u001b[K    35% |███████████▎                    | 348kB 33.9MB/s eta 0:00:01\r\u001b[K    36% |███████████▋                    | 358kB 34.5MB/s eta 0:00:01\r\u001b[K    37% |████████████                    | 368kB 39.1MB/s eta 0:00:01\r\u001b[K    38% |████████████▎                   | 378kB 38.9MB/s eta 0:00:01\r\u001b[K    39% |████████████▋                   | 389kB 38.9MB/s eta 0:00:01\r\u001b[K    40% |█████████████                   | 399kB 13.4MB/s eta 0:00:01\r\u001b[K    41% |█████████████▎                  | 409kB 13.3MB/s eta 0:00:01\r\u001b[K    42% |█████████████▋                  | 419kB 13.3MB/s eta 0:00:01\r\u001b[K    43% |██████████████                  | 430kB 13.2MB/s eta 0:00:01\r\u001b[K    44% |██████████████▎                 | 440kB 13.2MB/s eta 0:00:01\r\u001b[K    45% |██████████████▋                 | 450kB 13.1MB/s eta 0:00:01\r\u001b[K    46% |███████████████                 | 460kB 13.0MB/s eta 0:00:01\r\u001b[K    47% |███████████████▎                | 471kB 12.8MB/s eta 0:00:01\r\u001b[K    48% |███████████████▋                | 481kB 12.7MB/s eta 0:00:01\r\u001b[K    49% |████████████████                | 491kB 12.6MB/s eta 0:00:01\r\u001b[K    50% |████████████████▎               | 501kB 33.2MB/s eta 0:00:01\r\u001b[K    51% |████████████████▋               | 512kB 32.1MB/s eta 0:00:01\r\u001b[K    52% |█████████████████               | 522kB 32.4MB/s eta 0:00:01\r\u001b[K    53% |█████████████████▎              | 532kB 32.7MB/s eta 0:00:01\r\u001b[K    54% |█████████████████▋              | 542kB 32.5MB/s eta 0:00:01\r\u001b[K    55% |██████████████████              | 552kB 35.7MB/s eta 0:00:01\r\u001b[K    57% |██████████████████▎             | 563kB 36.6MB/s eta 0:00:01\r\u001b[K    58% |██████████████████▋             | 573kB 36.8MB/s eta 0:00:01\r\u001b[K    59% |███████████████████             | 583kB 38.3MB/s eta 0:00:01\r\u001b[K    60% |███████████████████▎            | 593kB 38.5MB/s eta 0:00:01\r\u001b[K    61% |███████████████████▋            | 604kB 38.7MB/s eta 0:00:01\r\u001b[K    62% |████████████████████            | 614kB 41.1MB/s eta 0:00:01\r\u001b[K    63% |████████████████████▎           | 624kB 40.9MB/s eta 0:00:01\r\u001b[K    64% |████████████████████▋           | 634kB 41.1MB/s eta 0:00:01\r\u001b[K    65% |█████████████████████           | 645kB 17.6MB/s eta 0:00:01\r\u001b[K    66% |█████████████████████▎          | 655kB 16.8MB/s eta 0:00:01\r\u001b[K    67% |█████████████████████▋          | 665kB 15.3MB/s eta 0:00:01\r\u001b[K    68% |██████████████████████          | 675kB 15.2MB/s eta 0:00:01\r\u001b[K    69% |██████████████████████▎         | 686kB 15.0MB/s eta 0:00:01\r\u001b[K    70% |██████████████████████▋         | 696kB 15.0MB/s eta 0:00:01\r\u001b[K    71% |███████████████████████         | 706kB 14.9MB/s eta 0:00:01\r\u001b[K    72% |███████████████████████▎        | 716kB 14.9MB/s eta 0:00:01\r\u001b[K    73% |███████████████████████▋        | 727kB 14.9MB/s eta 0:00:01\r\u001b[K    74% |████████████████████████        | 737kB 14.9MB/s eta 0:00:01\r\u001b[K    75% |████████████████████████▎       | 747kB 28.8MB/s eta 0:00:01\r\u001b[K    76% |████████████████████████▋       | 757kB 31.0MB/s eta 0:00:01\r\u001b[K    77% |████████████████████████▉       | 768kB 37.8MB/s eta 0:00:01\r\u001b[K    78% |█████████████████████████▏      | 778kB 38.6MB/s eta 0:00:01\r\u001b[K    79% |█████████████████████████▌      | 788kB 39.3MB/s eta 0:00:01\r\u001b[K    80% |█████████████████████████▉      | 798kB 39.7MB/s eta 0:00:01\r\u001b[K    81% |██████████████████████████▏     | 808kB 40.3MB/s eta 0:00:01\r\u001b[K    82% |██████████████████████████▌     | 819kB 40.1MB/s eta 0:00:01\r\u001b[K    83% |██████████████████████████▉     | 829kB 40.2MB/s eta 0:00:01\r\u001b[K    85% |███████████████████████████▏    | 839kB 40.0MB/s eta 0:00:01\r\u001b[K    86% |███████████████████████████▌    | 849kB 40.4MB/s eta 0:00:01\r\u001b[K    87% |███████████████████████████▉    | 860kB 37.8MB/s eta 0:00:01\r\u001b[K    88% |████████████████████████████▏   | 870kB 37.5MB/s eta 0:00:01\r\u001b[K    89% |████████████████████████████▌   | 880kB 38.4MB/s eta 0:00:01\r\u001b[K    90% |████████████████████████████▉   | 890kB 38.8MB/s eta 0:00:01\r\u001b[K    91% |█████████████████████████████▏  | 901kB 38.5MB/s eta 0:00:01\r\u001b[K    92% |█████████████████████████████▌  | 911kB 38.4MB/s eta 0:00:01\r\u001b[K    93% |█████████████████████████████▉  | 921kB 39.0MB/s eta 0:00:01\r\u001b[K    94% |██████████████████████████████▏ | 931kB 39.3MB/s eta 0:00:01\r\u001b[K    95% |██████████████████████████████▌ | 942kB 39.4MB/s eta 0:00:01\r\u001b[K    96% |██████████████████████████████▉ | 952kB 39.2MB/s eta 0:00:01\r\u001b[K    97% |███████████████████████████████▏| 962kB 42.8MB/s eta 0:00:01\r\u001b[K    98% |███████████████████████████████▌| 972kB 43.5MB/s eta 0:00:01\r\u001b[K    99% |███████████████████████████████▉| 983kB 38.8MB/s eta 0:00:01\r\u001b[K    100% |████████████████████████████████| 993kB 16.1MB/s \n",
            "\u001b[?25h  Building wheel for PyDrive (setup.py) ... \u001b[?25ldone\n",
            "\u001b[?25h"
          ],
          "name": "stdout"
        }
      ]
    },
    {
      "metadata": {
        "id": "fJ83g9nn08Nj",
        "colab_type": "code",
        "outputId": "c7959cfe-4d72-4f87-dca2-aaa3dddb8cf6",
        "colab": {
          "base_uri": "https://localhost:8080/",
          "height": 34
        }
      },
      "cell_type": "code",
      "source": [
        "! ls -a"
      ],
      "execution_count": 15,
      "outputs": [
        {
          "output_type": "stream",
          "text": [
            ".  ..  adc.json  best.h5  .config  sample_data\n"
          ],
          "name": "stdout"
        }
      ]
    },
    {
      "metadata": {
        "id": "7Xw6AgkSXLT7",
        "colab_type": "code",
        "outputId": "4e1ed983-c936-43a5-af21-70a98e4bbec1",
        "colab": {
          "base_uri": "https://localhost:8080/",
          "height": 34
        }
      },
      "cell_type": "code",
      "source": [
        "saver('best')"
      ],
      "execution_count": 16,
      "outputs": [
        {
          "output_type": "stream",
          "text": [
            "File ID: 1lp9toQ0M_g1rsW_91qpogZ258FZ76xDX\n"
          ],
          "name": "stdout"
        }
      ]
    }
  ]
}