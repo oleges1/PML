{
  "nbformat": 4,
  "nbformat_minor": 0,
  "metadata": {
    "colab": {
      "name": "lab7.ipynb",
      "version": "0.3.2",
      "provenance": [],
      "collapsed_sections": []
    },
    "kernelspec": {
      "name": "python3",
      "display_name": "Python 3"
    },
    "accelerator": "GPU"
  },
  "cells": [
    {
      "metadata": {
        "id": "bOrvNQbmsHpo",
        "colab_type": "code",
        "colab": {}
      },
      "cell_type": "code",
      "source": [
        "!pip install -U -q PyDrive"
      ],
      "execution_count": 0,
      "outputs": []
    },
    {
      "metadata": {
        "id": "oGF8G4jHs092",
        "colab_type": "code",
        "colab": {}
      },
      "cell_type": "code",
      "source": [
        "from pydrive.auth import GoogleAuth\n",
        "from pydrive.drive import GoogleDrive\n",
        "from google.colab import auth\n",
        "from oauth2client.client import GoogleCredentials\n",
        "\n",
        "# 1. Authenticate and create the PyDrive client.\n",
        "auth.authenticate_user()\n",
        "gauth = GoogleAuth()\n",
        "gauth.credentials = GoogleCredentials.get_application_default()\n",
        "drive = GoogleDrive(gauth)"
      ],
      "execution_count": 0,
      "outputs": []
    },
    {
      "metadata": {
        "id": "Yg4GIn1pytdg",
        "colab_type": "code",
        "colab": {
          "base_uri": "https://localhost:8080/",
          "height": 51
        },
        "outputId": "67c58270-440b-4004-8962-f97b3a2fdedf"
      },
      "cell_type": "code",
      "source": [
        "!ls -a"
      ],
      "execution_count": 5,
      "outputs": [
        {
          "output_type": "stream",
          "text": [
            ".   .cache   datalab   hhh.csv\t .keras    .local  .rnd      well_parsed.csv\r\n",
            "..  .config  .forever  .ipython  last.csv  .nv\t   test.csv\r\n"
          ],
          "name": "stdout"
        }
      ]
    },
    {
      "metadata": {
        "id": "XZQYNgvOs7ZI",
        "colab_type": "code",
        "colab": {}
      },
      "cell_type": "code",
      "source": [
        "import pandas as pd\n",
        "import numpy as np"
      ],
      "execution_count": 0,
      "outputs": []
    },
    {
      "metadata": {
        "id": "mUjFf4h-uNk8",
        "colab_type": "code",
        "colab": {}
      },
      "cell_type": "code",
      "source": [
        "list_phonems = ['_', 'AA', 'AE', 'AH', 'AO', 'AW', 'AY', 'B', 'CH', 'D', 'DH', 'EH', 'ER', 'EY', 'F', 'G', \\\n",
        "                'HH', 'IH', 'IY', 'JH', 'K', 'L', 'M', 'N', 'NG', 'OW', 'OY', 'P', 'R', 'S', 'SH', 'T', 'TH', \\\n",
        "                'UH', 'UW', 'V', 'W', 'Y', 'Z', 'ZH']"
      ],
      "execution_count": 0,
      "outputs": []
    },
    {
      "metadata": {
        "id": "XASdAn5Lvv--",
        "colab_type": "code",
        "colab": {
          "base_uri": "https://localhost:8080/",
          "height": 34
        },
        "outputId": "4c0a48d7-471c-4099-8545-d9fc39002091"
      },
      "cell_type": "code",
      "source": [
        "list_phonems[9]"
      ],
      "execution_count": 8,
      "outputs": [
        {
          "output_type": "execute_result",
          "data": {
            "text/plain": [
              "'D'"
            ]
          },
          "metadata": {
            "tags": []
          },
          "execution_count": 8
        }
      ]
    },
    {
      "metadata": {
        "id": "9SD9X7ZBveja",
        "colab_type": "code",
        "colab": {}
      },
      "cell_type": "code",
      "source": [
        "incoder_phonems = {list_phonems[i] : i for i in range(len(list_phonems))}"
      ],
      "execution_count": 0,
      "outputs": []
    },
    {
      "metadata": {
        "id": "riFioeigwZVw",
        "colab_type": "code",
        "colab": {}
      },
      "cell_type": "code",
      "source": [
        "alphabet = [chr(ord('A') + i - 1) for i in range(27)]\n",
        "alphabet.append('\\'')\n",
        "alphabet.append('-')"
      ],
      "execution_count": 0,
      "outputs": []
    },
    {
      "metadata": {
        "id": "59BmMJ4iwypO",
        "colab_type": "code",
        "colab": {}
      },
      "cell_type": "code",
      "source": [
        "incoder_alph = {alphabet[i] : i for i in range(len(alphabet))}"
      ],
      "execution_count": 0,
      "outputs": []
    },
    {
      "metadata": {
        "id": "jlXWqV-Fz1GW",
        "colab_type": "code",
        "colab": {
          "base_uri": "https://localhost:8080/",
          "height": 34
        },
        "outputId": "ed26f908-1c7e-4315-c9b2-4890787d527b"
      },
      "cell_type": "code",
      "source": [
        "incoder_alph['A']"
      ],
      "execution_count": 12,
      "outputs": [
        {
          "output_type": "execute_result",
          "data": {
            "text/plain": [
              "1"
            ]
          },
          "metadata": {
            "tags": []
          },
          "execution_count": 12
        }
      ]
    },
    {
      "metadata": {
        "id": "oVYWRYFes992",
        "colab_type": "code",
        "colab": {}
      },
      "cell_type": "code",
      "source": [
        "data = drive.CreateFile({'id': '1gB9Q-EStnVdbCp5MMsonqmI_0rbb1sgh'}).GetContentString().split('\\n')"
      ],
      "execution_count": 0,
      "outputs": []
    },
    {
      "metadata": {
        "id": "-VOxYkVhtScc",
        "colab_type": "code",
        "colab": {
          "base_uri": "https://localhost:8080/",
          "height": 34
        },
        "outputId": "b2da13c5-1774-4971-e240-08d3e3900646"
      },
      "cell_type": "code",
      "source": [
        "data[0:2]"
      ],
      "execution_count": 14,
      "outputs": [
        {
          "output_type": "execute_result",
          "data": {
            "text/plain": [
              "['LEMIEUX L_AH_M_Y_UW', 'MINDING M_AY_N_D_IH_NG']"
            ]
          },
          "metadata": {
            "tags": []
          },
          "execution_count": 14
        }
      ]
    },
    {
      "metadata": {
        "id": "xxeufj1iBh2e",
        "colab_type": "code",
        "colab": {}
      },
      "cell_type": "code",
      "source": [
        "def lens(data):\n",
        "  LEN, MAX_INPUT_LEN, MAX_OUTPUT_LEN = 0, 0, 0\n",
        "  for line in data:\n",
        "    info = line.split(' ')\n",
        "    MAX_INPUT_LEN = max(len(info[0]), MAX_INPUT_LEN)\n",
        "    for lb in info[1:]:\n",
        "      MAX_OUTPUT_LEN = max(MAX_OUTPUT_LEN, len(lb.split('_')))\n",
        "      LEN += 1\n",
        "  return LEN, MAX_INPUT_LEN, MAX_OUTPUT_LEN"
      ],
      "execution_count": 0,
      "outputs": []
    },
    {
      "metadata": {
        "id": "DR2DaO7WBW6e",
        "colab_type": "code",
        "colab": {}
      },
      "cell_type": "code",
      "source": [
        "LEN, MAX_INPUT_LEN, MAX_OUTPUT_LEN = lens(data)"
      ],
      "execution_count": 0,
      "outputs": []
    },
    {
      "metadata": {
        "id": "LfWGienqRsbK",
        "colab_type": "code",
        "colab": {
          "base_uri": "https://localhost:8080/",
          "height": 34
        },
        "outputId": "40f34fa7-240b-4cf9-e0ce-e227e85305d2"
      },
      "cell_type": "code",
      "source": [
        "LEN"
      ],
      "execution_count": 17,
      "outputs": [
        {
          "output_type": "execute_result",
          "data": {
            "text/plain": [
              "89056"
            ]
          },
          "metadata": {
            "tags": []
          },
          "execution_count": 17
        }
      ]
    },
    {
      "metadata": {
        "id": "aRlHwaVlz7ps",
        "colab_type": "code",
        "colab": {}
      },
      "cell_type": "code",
      "source": [
        "train = np.zeros((LEN, MAX_INPUT_LEN, len(alphabet)))\n",
        "labels = np.zeros((LEN, MAX_INPUT_LEN, len(list_phonems)))\n",
        "i = 0\n",
        "for line in data:\n",
        "  info = line.split(' ')\n",
        "  for lb in info[1:]:\n",
        "    j = 0\n",
        "    for letter in info[0]:\n",
        "      train[i, j] = np.array([int(i == incoder_alph[letter]) for i in range(len(alphabet))])\n",
        "      j += 1\n",
        "    j = 0\n",
        "    for phonem in lb.split('_'):\n",
        "      labels[i, j] = np.array([int(i == incoder_phonems[phonem]) for i in range(len(list_phonems))])\n",
        "      j += 1\n",
        "    while (j != MAX_INPUT_LEN):\n",
        "      labels[i, j, 0] = 1\n",
        "      j += 1\n",
        "    i += 1"
      ],
      "execution_count": 0,
      "outputs": []
    },
    {
      "metadata": {
        "id": "Qu7xB8tx2YJ4",
        "colab_type": "code",
        "colab": {
          "base_uri": "https://localhost:8080/",
          "height": 68
        },
        "outputId": "4d8949f8-9e4a-4c58-d69f-91ccad26b033"
      },
      "cell_type": "code",
      "source": [
        "!free -h"
      ],
      "execution_count": 19,
      "outputs": [
        {
          "output_type": "stream",
          "text": [
            "              total        used        free      shared  buff/cache   available\r\n",
            "Mem:            12G        1.9G        5.3G        247M        5.5G         10G\r\n",
            "Swap:            0B          0B          0B\r\n"
          ],
          "name": "stdout"
        }
      ]
    },
    {
      "metadata": {
        "id": "WKPow7t12qfc",
        "colab_type": "code",
        "colab": {
          "base_uri": "https://localhost:8080/",
          "height": 1173
        },
        "outputId": "c327c863-3008-4277-b5c7-3abb37ed2dbd"
      },
      "cell_type": "code",
      "source": [
        "train[0]"
      ],
      "execution_count": 20,
      "outputs": [
        {
          "output_type": "execute_result",
          "data": {
            "text/plain": [
              "array([[0., 0., 0., 0., 0., 0., 0., 0., 0., 0., 0., 0., 1., 0., 0., 0.,\n",
              "        0., 0., 0., 0., 0., 0., 0., 0., 0., 0., 0., 0., 0.],\n",
              "       [0., 0., 0., 0., 0., 1., 0., 0., 0., 0., 0., 0., 0., 0., 0., 0.,\n",
              "        0., 0., 0., 0., 0., 0., 0., 0., 0., 0., 0., 0., 0.],\n",
              "       [0., 0., 0., 0., 0., 0., 0., 0., 0., 0., 0., 0., 0., 1., 0., 0.,\n",
              "        0., 0., 0., 0., 0., 0., 0., 0., 0., 0., 0., 0., 0.],\n",
              "       [0., 0., 0., 0., 0., 0., 0., 0., 0., 1., 0., 0., 0., 0., 0., 0.,\n",
              "        0., 0., 0., 0., 0., 0., 0., 0., 0., 0., 0., 0., 0.],\n",
              "       [0., 0., 0., 0., 0., 1., 0., 0., 0., 0., 0., 0., 0., 0., 0., 0.,\n",
              "        0., 0., 0., 0., 0., 0., 0., 0., 0., 0., 0., 0., 0.],\n",
              "       [0., 0., 0., 0., 0., 0., 0., 0., 0., 0., 0., 0., 0., 0., 0., 0.,\n",
              "        0., 0., 0., 0., 0., 1., 0., 0., 0., 0., 0., 0., 0.],\n",
              "       [0., 0., 0., 0., 0., 0., 0., 0., 0., 0., 0., 0., 0., 0., 0., 0.,\n",
              "        0., 0., 0., 0., 0., 0., 0., 0., 1., 0., 0., 0., 0.],\n",
              "       [0., 0., 0., 0., 0., 0., 0., 0., 0., 0., 0., 0., 0., 0., 0., 0.,\n",
              "        0., 0., 0., 0., 0., 0., 0., 0., 0., 0., 0., 0., 0.],\n",
              "       [0., 0., 0., 0., 0., 0., 0., 0., 0., 0., 0., 0., 0., 0., 0., 0.,\n",
              "        0., 0., 0., 0., 0., 0., 0., 0., 0., 0., 0., 0., 0.],\n",
              "       [0., 0., 0., 0., 0., 0., 0., 0., 0., 0., 0., 0., 0., 0., 0., 0.,\n",
              "        0., 0., 0., 0., 0., 0., 0., 0., 0., 0., 0., 0., 0.],\n",
              "       [0., 0., 0., 0., 0., 0., 0., 0., 0., 0., 0., 0., 0., 0., 0., 0.,\n",
              "        0., 0., 0., 0., 0., 0., 0., 0., 0., 0., 0., 0., 0.],\n",
              "       [0., 0., 0., 0., 0., 0., 0., 0., 0., 0., 0., 0., 0., 0., 0., 0.,\n",
              "        0., 0., 0., 0., 0., 0., 0., 0., 0., 0., 0., 0., 0.],\n",
              "       [0., 0., 0., 0., 0., 0., 0., 0., 0., 0., 0., 0., 0., 0., 0., 0.,\n",
              "        0., 0., 0., 0., 0., 0., 0., 0., 0., 0., 0., 0., 0.],\n",
              "       [0., 0., 0., 0., 0., 0., 0., 0., 0., 0., 0., 0., 0., 0., 0., 0.,\n",
              "        0., 0., 0., 0., 0., 0., 0., 0., 0., 0., 0., 0., 0.],\n",
              "       [0., 0., 0., 0., 0., 0., 0., 0., 0., 0., 0., 0., 0., 0., 0., 0.,\n",
              "        0., 0., 0., 0., 0., 0., 0., 0., 0., 0., 0., 0., 0.],\n",
              "       [0., 0., 0., 0., 0., 0., 0., 0., 0., 0., 0., 0., 0., 0., 0., 0.,\n",
              "        0., 0., 0., 0., 0., 0., 0., 0., 0., 0., 0., 0., 0.],\n",
              "       [0., 0., 0., 0., 0., 0., 0., 0., 0., 0., 0., 0., 0., 0., 0., 0.,\n",
              "        0., 0., 0., 0., 0., 0., 0., 0., 0., 0., 0., 0., 0.],\n",
              "       [0., 0., 0., 0., 0., 0., 0., 0., 0., 0., 0., 0., 0., 0., 0., 0.,\n",
              "        0., 0., 0., 0., 0., 0., 0., 0., 0., 0., 0., 0., 0.],\n",
              "       [0., 0., 0., 0., 0., 0., 0., 0., 0., 0., 0., 0., 0., 0., 0., 0.,\n",
              "        0., 0., 0., 0., 0., 0., 0., 0., 0., 0., 0., 0., 0.],\n",
              "       [0., 0., 0., 0., 0., 0., 0., 0., 0., 0., 0., 0., 0., 0., 0., 0.,\n",
              "        0., 0., 0., 0., 0., 0., 0., 0., 0., 0., 0., 0., 0.],\n",
              "       [0., 0., 0., 0., 0., 0., 0., 0., 0., 0., 0., 0., 0., 0., 0., 0.,\n",
              "        0., 0., 0., 0., 0., 0., 0., 0., 0., 0., 0., 0., 0.],\n",
              "       [0., 0., 0., 0., 0., 0., 0., 0., 0., 0., 0., 0., 0., 0., 0., 0.,\n",
              "        0., 0., 0., 0., 0., 0., 0., 0., 0., 0., 0., 0., 0.],\n",
              "       [0., 0., 0., 0., 0., 0., 0., 0., 0., 0., 0., 0., 0., 0., 0., 0.,\n",
              "        0., 0., 0., 0., 0., 0., 0., 0., 0., 0., 0., 0., 0.],\n",
              "       [0., 0., 0., 0., 0., 0., 0., 0., 0., 0., 0., 0., 0., 0., 0., 0.,\n",
              "        0., 0., 0., 0., 0., 0., 0., 0., 0., 0., 0., 0., 0.],\n",
              "       [0., 0., 0., 0., 0., 0., 0., 0., 0., 0., 0., 0., 0., 0., 0., 0.,\n",
              "        0., 0., 0., 0., 0., 0., 0., 0., 0., 0., 0., 0., 0.],\n",
              "       [0., 0., 0., 0., 0., 0., 0., 0., 0., 0., 0., 0., 0., 0., 0., 0.,\n",
              "        0., 0., 0., 0., 0., 0., 0., 0., 0., 0., 0., 0., 0.],\n",
              "       [0., 0., 0., 0., 0., 0., 0., 0., 0., 0., 0., 0., 0., 0., 0., 0.,\n",
              "        0., 0., 0., 0., 0., 0., 0., 0., 0., 0., 0., 0., 0.],\n",
              "       [0., 0., 0., 0., 0., 0., 0., 0., 0., 0., 0., 0., 0., 0., 0., 0.,\n",
              "        0., 0., 0., 0., 0., 0., 0., 0., 0., 0., 0., 0., 0.],\n",
              "       [0., 0., 0., 0., 0., 0., 0., 0., 0., 0., 0., 0., 0., 0., 0., 0.,\n",
              "        0., 0., 0., 0., 0., 0., 0., 0., 0., 0., 0., 0., 0.],\n",
              "       [0., 0., 0., 0., 0., 0., 0., 0., 0., 0., 0., 0., 0., 0., 0., 0.,\n",
              "        0., 0., 0., 0., 0., 0., 0., 0., 0., 0., 0., 0., 0.],\n",
              "       [0., 0., 0., 0., 0., 0., 0., 0., 0., 0., 0., 0., 0., 0., 0., 0.,\n",
              "        0., 0., 0., 0., 0., 0., 0., 0., 0., 0., 0., 0., 0.],\n",
              "       [0., 0., 0., 0., 0., 0., 0., 0., 0., 0., 0., 0., 0., 0., 0., 0.,\n",
              "        0., 0., 0., 0., 0., 0., 0., 0., 0., 0., 0., 0., 0.],\n",
              "       [0., 0., 0., 0., 0., 0., 0., 0., 0., 0., 0., 0., 0., 0., 0., 0.,\n",
              "        0., 0., 0., 0., 0., 0., 0., 0., 0., 0., 0., 0., 0.],\n",
              "       [0., 0., 0., 0., 0., 0., 0., 0., 0., 0., 0., 0., 0., 0., 0., 0.,\n",
              "        0., 0., 0., 0., 0., 0., 0., 0., 0., 0., 0., 0., 0.]])"
            ]
          },
          "metadata": {
            "tags": []
          },
          "execution_count": 20
        }
      ]
    },
    {
      "metadata": {
        "id": "bVkmYx1rWDta",
        "colab_type": "code",
        "colab": {
          "base_uri": "https://localhost:8080/",
          "height": 391
        },
        "outputId": "b0ca6c80-ac34-4491-b1dd-58f13768d22d"
      },
      "cell_type": "code",
      "source": [
        "import os\n",
        "import sys\n",
        "import numpy as np\n",
        "from keras.models import Sequential\n",
        "from keras.preprocessing.text import Tokenizer\n",
        "from keras.preprocessing.sequence import pad_sequences\n",
        "from keras.utils import to_categorical\n",
        "from keras.layers import Dense, Input, GlobalMaxPooling1D, Activation, RepeatVector, TimeDistributed, LSTM, Reshape\n",
        "from keras.layers import Conv1D, MaxPooling1D, Embedding, LeakyReLU\n",
        "from keras.models import Model\n",
        "from keras.models import Sequential\n",
        "from keras.layers.core import Masking, Dense\n",
        "from keras.layers.recurrent import LSTM\n",
        "from keras.layers.wrappers import TimeDistributed\n",
        "from keras.optimizers import RMSprop\n",
        "from keras.layers import Bidirectional, GRU\n",
        "\n",
        "HIDDEN_SIZE = 256\n",
        "\n",
        "model = Sequential()\n",
        "'''\n",
        "model.add(LSTM(HIDDEN_SIZE, input_shape=(MAX_INPUT_LEN, len(alphabet))))\n",
        "model.add(RepeatVector(MAX_OUTPUT_LEN))\n",
        "model.add(LSTM(HIDDEN_SIZE, return_sequences=True))\n",
        "model.add(TimeDistributed(Dense(len(list_phonems))))\n",
        "model.add(Activation('softmax'))\n",
        "'''\n",
        "model.add(Masking(mask_value=0., input_shape=(MAX_INPUT_LEN, len(alphabet))))\n",
        "model.add(Bidirectional(LSTM(256, return_sequences=True, recurrent_dropout=0.01,\n",
        "                             activation='tanh', recurrent_activation='hard_sigmoid'), merge_mode=\"sum\"))\n",
        "model.add(LSTM(256, return_sequences=True, activation='tanh', recurrent_activation='hard_sigmoid'))\n",
        "model.add(GRU(256, return_sequences=True, recurrent_activation='hard_sigmoid'))\n",
        "model.add(GRU(256, return_sequences=True, recurrent_activation='hard_sigmoid'))\n",
        "model.add(TimeDistributed(Dense(256, activation='relu')))\n",
        "#model.add(Dense(MAX_OUTPUT_LEN * len(list_phonems), activation = 'relu'))\n",
        "#model.add(Reshape((MAX_OUTPUT_LEN, len(list_phonems))))\n",
        "model.add(TimeDistributed(Dense(len(list_phonems), activation='softmax')))\n",
        "\n",
        "model.compile(loss='categorical_crossentropy',\n",
        "              optimizer='adam',\n",
        "              metrics=['accuracy'])\n",
        "model.summary()"
      ],
      "execution_count": 21,
      "outputs": [
        {
          "output_type": "stream",
          "text": [
            "Using TensorFlow backend.\n"
          ],
          "name": "stderr"
        },
        {
          "output_type": "stream",
          "text": [
            "_________________________________________________________________\n",
            "Layer (type)                 Output Shape              Param #   \n",
            "=================================================================\n",
            "masking_1 (Masking)          (None, 34, 29)            0         \n",
            "_________________________________________________________________\n",
            "bidirectional_1 (Bidirection (None, 34, 256)           585728    \n",
            "_________________________________________________________________\n",
            "lstm_2 (LSTM)                (None, 34, 256)           525312    \n",
            "_________________________________________________________________\n",
            "gru_1 (GRU)                  (None, 34, 256)           393984    \n",
            "_________________________________________________________________\n",
            "gru_2 (GRU)                  (None, 34, 256)           393984    \n",
            "_________________________________________________________________\n",
            "time_distributed_1 (TimeDist (None, 34, 256)           65792     \n",
            "_________________________________________________________________\n",
            "time_distributed_2 (TimeDist (None, 34, 40)            10280     \n",
            "=================================================================\n",
            "Total params: 1,975,080\n",
            "Trainable params: 1,975,080\n",
            "Non-trainable params: 0\n",
            "_________________________________________________________________\n"
          ],
          "name": "stdout"
        }
      ]
    },
    {
      "metadata": {
        "id": "nBeTzY5WXNyc",
        "colab_type": "code",
        "colab": {
          "base_uri": "https://localhost:8080/",
          "height": 102
        },
        "outputId": "117cc8b9-6a83-417e-d5db-3d7088727d2c"
      },
      "cell_type": "code",
      "source": [
        "BATCH_SIZE = 64\n",
        "model.fit(train, \n",
        "          labels,\n",
        "              batch_size=BATCH_SIZE,\n",
        "              epochs=2)"
      ],
      "execution_count": 22,
      "outputs": [
        {
          "output_type": "stream",
          "text": [
            "Epoch 1/2\n",
            "89056/89056 [==============================] - 641s 7ms/step - loss: 1.1889 - acc: 0.6480\n"
          ],
          "name": "stdout"
        },
        {
          "output_type": "stream",
          "text": [
            "Epoch 2/2\n",
            "89056/89056 [==============================] - 648s 7ms/step - loss: 0.5639 - acc: 0.8196\n"
          ],
          "name": "stdout"
        },
        {
          "output_type": "execute_result",
          "data": {
            "text/plain": [
              "<keras.callbacks.History at 0x7f8f310fb550>"
            ]
          },
          "metadata": {
            "tags": []
          },
          "execution_count": 22
        }
      ]
    },
    {
      "metadata": {
        "id": "XaMwMBS9Y1Lt",
        "colab_type": "code",
        "colab": {
          "base_uri": "https://localhost:8080/",
          "height": 102
        },
        "outputId": "9590f25b-02a0-4c16-8da8-950051a94a62"
      },
      "cell_type": "code",
      "source": [
        "BATCH_SIZE = 256\n",
        "model.fit(train, labels,\n",
        "              batch_size=BATCH_SIZE,\n",
        "              epochs=2)"
      ],
      "execution_count": 23,
      "outputs": [
        {
          "output_type": "stream",
          "text": [
            "Epoch 1/2\n",
            "89056/89056 [==============================] - 164s 2ms/step - loss: 0.4071 - acc: 0.8663\n",
            "Epoch 2/2\n",
            "88064/89056 [============================>.] - ETA: 1s - loss: 0.3687 - acc: 0.8780"
          ],
          "name": "stdout"
        },
        {
          "output_type": "stream",
          "text": [
            "89056/89056 [==============================] - 163s 2ms/step - loss: 0.3687 - acc: 0.8780\n"
          ],
          "name": "stdout"
        },
        {
          "output_type": "execute_result",
          "data": {
            "text/plain": [
              "<keras.callbacks.History at 0x7f8f310fbda0>"
            ]
          },
          "metadata": {
            "tags": []
          },
          "execution_count": 23
        }
      ]
    },
    {
      "metadata": {
        "id": "WuvkbqlRp5OF",
        "colab_type": "code",
        "colab": {
          "base_uri": "https://localhost:8080/",
          "height": 102
        },
        "outputId": "f4abb3b4-4e21-43b5-d8a7-b63de24de0af"
      },
      "cell_type": "code",
      "source": [
        "BATCH_SIZE = 1024\n",
        "model.fit(train, labels,\n",
        "              batch_size=BATCH_SIZE,\n",
        "              epochs=2)"
      ],
      "execution_count": 24,
      "outputs": [
        {
          "output_type": "stream",
          "text": [
            "Epoch 1/2\n",
            "89056/89056 [==============================] - 67s 755us/step - loss: 0.3218 - acc: 0.8931\n",
            "Epoch 2/2\n",
            "89056/89056 [==============================] - 67s 757us/step - loss: 0.3065 - acc: 0.8976\n"
          ],
          "name": "stdout"
        },
        {
          "output_type": "execute_result",
          "data": {
            "text/plain": [
              "<keras.callbacks.History at 0x7f8ece0b3eb8>"
            ]
          },
          "metadata": {
            "tags": []
          },
          "execution_count": 24
        }
      ]
    },
    {
      "metadata": {
        "id": "tsQoGBcar9b_",
        "colab_type": "code",
        "colab": {
          "base_uri": "https://localhost:8080/",
          "height": 136
        },
        "outputId": "c0f94a88-271f-44e6-e22e-49d1213fbf79"
      },
      "cell_type": "code",
      "source": [
        "BATCH_SIZE = 4096\n",
        "model.fit(train, labels,\n",
        "              batch_size=BATCH_SIZE,\n",
        "              epochs=3)"
      ],
      "execution_count": 25,
      "outputs": [
        {
          "output_type": "stream",
          "text": [
            "Epoch 1/3\n",
            "89056/89056 [==============================] - 61s 689us/step - loss: 0.2918 - acc: 0.9024\n",
            "Epoch 2/3\n",
            "89056/89056 [==============================] - 60s 670us/step - loss: 0.2864 - acc: 0.9042\n",
            "Epoch 3/3\n",
            "89056/89056 [==============================] - 60s 671us/step - loss: 0.2833 - acc: 0.9050\n"
          ],
          "name": "stdout"
        },
        {
          "output_type": "execute_result",
          "data": {
            "text/plain": [
              "<keras.callbacks.History at 0x7f8ece0aac18>"
            ]
          },
          "metadata": {
            "tags": []
          },
          "execution_count": 25
        }
      ]
    },
    {
      "metadata": {
        "id": "xJPI5oY-qBW5",
        "colab_type": "code",
        "colab": {}
      },
      "cell_type": "code",
      "source": [
        "drive.CreateFile({'id': '1MbRXFQFBHb_l5idofLcoxin-82On71gN'}).GetContentFile('test.csv')"
      ],
      "execution_count": 0,
      "outputs": []
    },
    {
      "metadata": {
        "id": "bqb36sQJqhpE",
        "colab_type": "code",
        "colab": {}
      },
      "cell_type": "code",
      "source": [
        "df = pd.read_csv('test.csv')"
      ],
      "execution_count": 0,
      "outputs": []
    },
    {
      "metadata": {
        "id": "9Ho9o2X8sXCN",
        "colab_type": "code",
        "colab": {
          "base_uri": "https://localhost:8080/",
          "height": 359
        },
        "outputId": "673a40b7-8da8-4aea-b6ff-65300094d8e4"
      },
      "cell_type": "code",
      "source": [
        "df.head(10)"
      ],
      "execution_count": 28,
      "outputs": [
        {
          "output_type": "execute_result",
          "data": {
            "text/html": [
              "<div>\n",
              "<style scoped>\n",
              "    .dataframe tbody tr th:only-of-type {\n",
              "        vertical-align: middle;\n",
              "    }\n",
              "\n",
              "    .dataframe tbody tr th {\n",
              "        vertical-align: top;\n",
              "    }\n",
              "\n",
              "    .dataframe thead th {\n",
              "        text-align: right;\n",
              "    }\n",
              "</style>\n",
              "<table border=\"1\" class=\"dataframe\">\n",
              "  <thead>\n",
              "    <tr style=\"text-align: right;\">\n",
              "      <th></th>\n",
              "      <th>Id</th>\n",
              "      <th>Word</th>\n",
              "    </tr>\n",
              "  </thead>\n",
              "  <tbody>\n",
              "    <tr>\n",
              "      <th>0</th>\n",
              "      <td>1</td>\n",
              "      <td>PITCHED</td>\n",
              "    </tr>\n",
              "    <tr>\n",
              "      <th>1</th>\n",
              "      <td>2</td>\n",
              "      <td>DISSOLVERS</td>\n",
              "    </tr>\n",
              "    <tr>\n",
              "      <th>2</th>\n",
              "      <td>3</td>\n",
              "      <td>SCRAWNY</td>\n",
              "    </tr>\n",
              "    <tr>\n",
              "      <th>3</th>\n",
              "      <td>4</td>\n",
              "      <td>BONENFANT</td>\n",
              "    </tr>\n",
              "    <tr>\n",
              "      <th>4</th>\n",
              "      <td>5</td>\n",
              "      <td>EXCEEDS</td>\n",
              "    </tr>\n",
              "    <tr>\n",
              "      <th>5</th>\n",
              "      <td>6</td>\n",
              "      <td>BARTNICKI</td>\n",
              "    </tr>\n",
              "    <tr>\n",
              "      <th>6</th>\n",
              "      <td>7</td>\n",
              "      <td>BUTE</td>\n",
              "    </tr>\n",
              "    <tr>\n",
              "      <th>7</th>\n",
              "      <td>8</td>\n",
              "      <td>CAPITULATE</td>\n",
              "    </tr>\n",
              "    <tr>\n",
              "      <th>8</th>\n",
              "      <td>9</td>\n",
              "      <td>STEAM</td>\n",
              "    </tr>\n",
              "    <tr>\n",
              "      <th>9</th>\n",
              "      <td>10</td>\n",
              "      <td>INVESTCORP</td>\n",
              "    </tr>\n",
              "  </tbody>\n",
              "</table>\n",
              "</div>"
            ],
            "text/plain": [
              "   Id        Word\n",
              "0   1     PITCHED\n",
              "1   2  DISSOLVERS\n",
              "2   3     SCRAWNY\n",
              "3   4   BONENFANT\n",
              "4   5     EXCEEDS\n",
              "5   6   BARTNICKI\n",
              "6   7        BUTE\n",
              "7   8  CAPITULATE\n",
              "8   9       STEAM\n",
              "9  10  INVESTCORP"
            ]
          },
          "metadata": {
            "tags": []
          },
          "execution_count": 28
        }
      ]
    },
    {
      "metadata": {
        "id": "JWESSlhHtRkj",
        "colab_type": "code",
        "colab": {}
      },
      "cell_type": "code",
      "source": [
        "test = np.zeros((len(df), MAX_INPUT_LEN, len(alphabet)))\n",
        "i = 0\n",
        "for word in df['Word']:\n",
        "  j = 0\n",
        "  for letter in word:\n",
        "    test[i, j] = np.array([int(i == incoder_alph[letter]) for i in range(len(alphabet))])\n",
        "    j += 1\n",
        "  i += 1"
      ],
      "execution_count": 0,
      "outputs": []
    },
    {
      "metadata": {
        "id": "1GoBzsGDOYiH",
        "colab_type": "code",
        "colab": {
          "base_uri": "https://localhost:8080/",
          "height": 51
        },
        "outputId": "97c3c0ed-171e-4812-dc41-34a28574154e"
      },
      "cell_type": "code",
      "source": [
        "np.argmax(test[1], axis = -1)"
      ],
      "execution_count": 30,
      "outputs": [
        {
          "output_type": "execute_result",
          "data": {
            "text/plain": [
              "array([ 4,  9, 19, 19, 15, 12, 22,  5, 18, 19,  0,  0,  0,  0,  0,  0,  0,\n",
              "        0,  0,  0,  0,  0,  0,  0,  0,  0,  0,  0,  0,  0,  0,  0,  0,  0])"
            ]
          },
          "metadata": {
            "tags": []
          },
          "execution_count": 30
        }
      ]
    },
    {
      "metadata": {
        "id": "d0CBj4Naug7n",
        "colab_type": "code",
        "colab": {
          "base_uri": "https://localhost:8080/",
          "height": 34
        },
        "outputId": "11a3df55-d5f8-44c7-c334-d2f6d8824345"
      },
      "cell_type": "code",
      "source": [
        "res = model.predict(test, verbose = 1, batch_size=4096)"
      ],
      "execution_count": 31,
      "outputs": [
        {
          "output_type": "stream",
          "text": [
            "41597/41597 [==============================] - 8s 203us/step\n"
          ],
          "name": "stdout"
        }
      ]
    },
    {
      "metadata": {
        "id": "leXwC28RuvWZ",
        "colab_type": "code",
        "colab": {}
      },
      "cell_type": "code",
      "source": [
        "ans = []\n",
        "for word_emb in res:\n",
        "  phonemes = []\n",
        "  pred = np.argmax(word_emb, axis = 1)\n",
        "  for i in range(len(pred)):\n",
        "    if (pred[i] == 0 or (i != 0 and pred[i - 1] == pred[i])):\n",
        "      break\n",
        "    phonemes.append(list_phonems[pred[i]])\n",
        "  ans.append('_'.join(phonemes))"
      ],
      "execution_count": 0,
      "outputs": []
    },
    {
      "metadata": {
        "id": "krdCyMVyzlBH",
        "colab_type": "code",
        "colab": {
          "base_uri": "https://localhost:8080/",
          "height": 34
        },
        "outputId": "d08edc2d-1ff5-4619-eb49-b7f1bae1da8d"
      },
      "cell_type": "code",
      "source": [
        "ans[0]"
      ],
      "execution_count": 39,
      "outputs": [
        {
          "output_type": "execute_result",
          "data": {
            "text/plain": [
              "'P_IH_CH_T'"
            ]
          },
          "metadata": {
            "tags": []
          },
          "execution_count": 39
        }
      ]
    },
    {
      "metadata": {
        "id": "EGVHvjt-zxJp",
        "colab_type": "code",
        "colab": {}
      },
      "cell_type": "code",
      "source": [
        "def saver(path, res):\n",
        "    with open(path, 'w') as out:\n",
        "        print('Id,Transcription', file = out)\n",
        "        for i in range(len(res)):\n",
        "            print(str(i + 1) + ',' + res[i], file = out)"
      ],
      "execution_count": 0,
      "outputs": []
    },
    {
      "metadata": {
        "id": "NZzakslB1Vin",
        "colab_type": "code",
        "colab": {}
      },
      "cell_type": "code",
      "source": [
        "saver('last.csv', ans)"
      ],
      "execution_count": 0,
      "outputs": []
    },
    {
      "metadata": {
        "id": "ufvSm2yR2Ncj",
        "colab_type": "code",
        "colab": {}
      },
      "cell_type": "code",
      "source": [
        "from googleapiclient.discovery import build\n",
        "drive_service = build('drive', 'v3')"
      ],
      "execution_count": 0,
      "outputs": []
    },
    {
      "metadata": {
        "id": "Q5-20nzo1cZb",
        "colab_type": "code",
        "colab": {}
      },
      "cell_type": "code",
      "source": [
        "from googleapiclient.http import MediaFileUpload\n",
        "\n",
        "def saver_inside(name):\n",
        "  file_metadata = {\n",
        "    'name': name + '.csv',\n",
        "    'mimeType': 'text/csv'\n",
        "  }\n",
        "  media = MediaFileUpload(name + '.csv', \n",
        "                          mimetype='text/csv',\n",
        "                          resumable=True)\n",
        "  created = drive_service.files().create(body=file_metadata,\n",
        "                                         media_body=media).execute()\n",
        "  print('File ID: {}'.format(created.get('id')))"
      ],
      "execution_count": 0,
      "outputs": []
    },
    {
      "metadata": {
        "id": "cw-UNJZI1nOY",
        "colab_type": "code",
        "colab": {
          "base_uri": "https://localhost:8080/",
          "height": 34
        },
        "outputId": "aebe9e7f-c42a-4093-ab52-f48d5bcf2a25"
      },
      "cell_type": "code",
      "source": [
        "saver_inside('last')"
      ],
      "execution_count": 38,
      "outputs": [
        {
          "output_type": "stream",
          "text": [
            "File ID: 1hLs52X8mxdteW41W0sGSA1LBV_0mNv_x\n"
          ],
          "name": "stdout"
        }
      ]
    }
  ]
}